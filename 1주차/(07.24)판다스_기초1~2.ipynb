{
  "nbformat": 4,
  "nbformat_minor": 0,
  "metadata": {
    "colab": {
      "name": "판다스 기초1~2.ipynb",
      "provenance": [],
      "authorship_tag": "ABX9TyN6JnZq16F8RnVK3HyGcke+",
      "include_colab_link": true
    },
    "kernelspec": {
      "name": "python3",
      "display_name": "Python 3"
    }
  },
  "cells": [
    {
      "cell_type": "markdown",
      "metadata": {
        "id": "view-in-github",
        "colab_type": "text"
      },
      "source": [
        "<a href=\"https://colab.research.google.com/github/RudinP/SOLUX_Summer_data_study/blob/master/1%EC%A3%BC%EC%B0%A8/%ED%8C%90%EB%8B%A4%EC%8A%A4_%EA%B8%B0%EC%B4%881~2.ipynb\" target=\"_parent\"><img src=\"https://colab.research.google.com/assets/colab-badge.svg\" alt=\"Open In Colab\"/></a>"
      ]
    },
    {
      "cell_type": "code",
      "metadata": {
        "id": "-d3kmmIWNPEL",
        "colab_type": "code",
        "colab": {}
      },
      "source": [
        "import pandas as pd\n",
        "df=pd.read_csv('friend_list.csv')\n",
        "df=pd.read_csv('friend_list.txt')\n",
        "df=pd.read_csv('friend_list_no_head.csv',header=None)\n",
        "df.columns=['name','job','age']\n",
        "df=pd.read_csv('friend_list_no_head.csv','header=None,names=['name','job','age'])\n",
        "df=pd.read_csv('friend_list_tab.csv',delimiter='\\t')"
      ],
      "execution_count": null,
      "outputs": []
    }
  ]
}
