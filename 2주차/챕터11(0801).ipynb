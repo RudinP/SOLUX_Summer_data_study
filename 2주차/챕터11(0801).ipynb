{
  "nbformat": 4,
  "nbformat_minor": 0,
  "metadata": {
    "kernelspec": {
      "display_name": "Python 3",
      "language": "python",
      "name": "python3"
    },
    "language_info": {
      "codemirror_mode": {
        "name": "ipython",
        "version": 3
      },
      "file_extension": ".py",
      "mimetype": "text/x-python",
      "name": "python",
      "nbconvert_exporter": "python",
      "pygments_lexer": "ipython3",
      "version": "3.8.5"
    },
    "colab": {
      "name": "챕터11(0801).ipynb",
      "provenance": [],
      "include_colab_link": true
    }
  },
  "cells": [
    {
      "cell_type": "markdown",
      "metadata": {
        "id": "view-in-github",
        "colab_type": "text"
      },
      "source": [
        "<a href=\"https://colab.research.google.com/github/RudinP/SOLUX_Summer_data_study/blob/master/2%EC%A3%BC%EC%B0%A8/%EC%B1%95%ED%84%B011(0801).ipynb\" target=\"_parent\"><img src=\"https://colab.research.google.com/assets/colab-badge.svg\" alt=\"Open In Colab\"/></a>"
      ]
    },
    {
      "cell_type": "code",
      "metadata": {
        "id": "U_aieQAOEDPs",
        "colab_type": "code",
        "colab": {}
      },
      "source": [
        "import pandas as pd"
      ],
      "execution_count": null,
      "outputs": []
    },
    {
      "cell_type": "code",
      "metadata": {
        "id": "x3iLCtw2EDPv",
        "colab_type": "code",
        "colab": {},
        "outputId": "0958153c-a852-473a-89a2-6fbc6d8b787f"
      },
      "source": [
        "date_list=[{'yyyy-mm-dd':'2000-06-27'},\n",
        "          {'yyyy-mm-dd':'2002-09-24'},\n",
        "          {'yyyy-mm-dd':'2005-12-20'},]\n",
        "df=pd.DataFrame(date_list,columns=['yyyy-mm-dd'])\n",
        "df"
      ],
      "execution_count": null,
      "outputs": [
        {
          "output_type": "execute_result",
          "data": {
            "text/html": [
              "<div>\n",
              "<style scoped>\n",
              "    .dataframe tbody tr th:only-of-type {\n",
              "        vertical-align: middle;\n",
              "    }\n",
              "\n",
              "    .dataframe tbody tr th {\n",
              "        vertical-align: top;\n",
              "    }\n",
              "\n",
              "    .dataframe thead th {\n",
              "        text-align: right;\n",
              "    }\n",
              "</style>\n",
              "<table border=\"1\" class=\"dataframe\">\n",
              "  <thead>\n",
              "    <tr style=\"text-align: right;\">\n",
              "      <th></th>\n",
              "      <th>yyyy-mm-dd</th>\n",
              "    </tr>\n",
              "  </thead>\n",
              "  <tbody>\n",
              "    <tr>\n",
              "      <th>0</th>\n",
              "      <td>2000-06-27</td>\n",
              "    </tr>\n",
              "    <tr>\n",
              "      <th>1</th>\n",
              "      <td>2002-09-24</td>\n",
              "    </tr>\n",
              "    <tr>\n",
              "      <th>2</th>\n",
              "      <td>2005-12-20</td>\n",
              "    </tr>\n",
              "  </tbody>\n",
              "</table>\n",
              "</div>"
            ],
            "text/plain": [
              "   yyyy-mm-dd\n",
              "0  2000-06-27\n",
              "1  2002-09-24\n",
              "2  2005-12-20"
            ]
          },
          "metadata": {
            "tags": []
          },
          "execution_count": 4
        }
      ]
    },
    {
      "cell_type": "code",
      "metadata": {
        "id": "FmpF-4hkEDPy",
        "colab_type": "code",
        "colab": {}
      },
      "source": [
        "def extract_year(column):\n",
        "    return column.split(\"-\")[0]#하나의 컬럼을 받았을 때 -를 기준으로 split, 첫번째 인자를 return 하라는 뜻"
      ],
      "execution_count": null,
      "outputs": []
    },
    {
      "cell_type": "code",
      "metadata": {
        "id": "RV2UBPalEDPz",
        "colab_type": "code",
        "colab": {}
      },
      "source": [
        "df['year']=df['yyyy-mm-dd'].apply(extract_year)#각 row에 함수 하나씩을 적용하겠다는 의미. for문을 사용하지 않아도 같은 효과."
      ],
      "execution_count": null,
      "outputs": []
    },
    {
      "cell_type": "code",
      "metadata": {
        "id": "Ef_tFe9rEDP1",
        "colab_type": "code",
        "colab": {},
        "outputId": "0b33c681-41a3-4cef-ca71-d2cdb8dc59a6"
      },
      "source": [
        "df"
      ],
      "execution_count": null,
      "outputs": [
        {
          "output_type": "execute_result",
          "data": {
            "text/html": [
              "<div>\n",
              "<style scoped>\n",
              "    .dataframe tbody tr th:only-of-type {\n",
              "        vertical-align: middle;\n",
              "    }\n",
              "\n",
              "    .dataframe tbody tr th {\n",
              "        vertical-align: top;\n",
              "    }\n",
              "\n",
              "    .dataframe thead th {\n",
              "        text-align: right;\n",
              "    }\n",
              "</style>\n",
              "<table border=\"1\" class=\"dataframe\">\n",
              "  <thead>\n",
              "    <tr style=\"text-align: right;\">\n",
              "      <th></th>\n",
              "      <th>yyyy-mm-dd</th>\n",
              "      <th>year</th>\n",
              "    </tr>\n",
              "  </thead>\n",
              "  <tbody>\n",
              "    <tr>\n",
              "      <th>0</th>\n",
              "      <td>2000-06-27</td>\n",
              "      <td>2000</td>\n",
              "    </tr>\n",
              "    <tr>\n",
              "      <th>1</th>\n",
              "      <td>2002-09-24</td>\n",
              "      <td>2002</td>\n",
              "    </tr>\n",
              "    <tr>\n",
              "      <th>2</th>\n",
              "      <td>2005-12-20</td>\n",
              "      <td>2005</td>\n",
              "    </tr>\n",
              "  </tbody>\n",
              "</table>\n",
              "</div>"
            ],
            "text/plain": [
              "   yyyy-mm-dd  year\n",
              "0  2000-06-27  2000\n",
              "1  2002-09-24  2002\n",
              "2  2005-12-20  2005"
            ]
          },
          "metadata": {
            "tags": []
          },
          "execution_count": 8
        }
      ]
    },
    {
      "cell_type": "code",
      "metadata": {
        "id": "nHmq6t9SEDP3",
        "colab_type": "code",
        "colab": {}
      },
      "source": [
        "#함수 안에 parameter을 어떻게 넣나?"
      ],
      "execution_count": null,
      "outputs": []
    },
    {
      "cell_type": "code",
      "metadata": {
        "id": "mmB8e48vEDP5",
        "colab_type": "code",
        "colab": {}
      },
      "source": [
        "def get_age(year,current_year):\n",
        "    return current_year-int(year)+1#강의와는 다르게 한국 나이 기준으로 하고싶어서 +1함"
      ],
      "execution_count": null,
      "outputs": []
    },
    {
      "cell_type": "code",
      "metadata": {
        "id": "RZM7iNL0EDP7",
        "colab_type": "code",
        "colab": {}
      },
      "source": [
        "df['age']=df['year'].apply(get_age,current_year=2020)#파라미터값을 줌"
      ],
      "execution_count": null,
      "outputs": []
    },
    {
      "cell_type": "code",
      "metadata": {
        "id": "QGD_J0V0EDP8",
        "colab_type": "code",
        "colab": {},
        "outputId": "03f16f35-b3c9-4d07-e559-a56ec40b1b0d"
      },
      "source": [
        "df"
      ],
      "execution_count": null,
      "outputs": [
        {
          "output_type": "execute_result",
          "data": {
            "text/html": [
              "<div>\n",
              "<style scoped>\n",
              "    .dataframe tbody tr th:only-of-type {\n",
              "        vertical-align: middle;\n",
              "    }\n",
              "\n",
              "    .dataframe tbody tr th {\n",
              "        vertical-align: top;\n",
              "    }\n",
              "\n",
              "    .dataframe thead th {\n",
              "        text-align: right;\n",
              "    }\n",
              "</style>\n",
              "<table border=\"1\" class=\"dataframe\">\n",
              "  <thead>\n",
              "    <tr style=\"text-align: right;\">\n",
              "      <th></th>\n",
              "      <th>yyyy-mm-dd</th>\n",
              "      <th>year</th>\n",
              "      <th>age</th>\n",
              "    </tr>\n",
              "  </thead>\n",
              "  <tbody>\n",
              "    <tr>\n",
              "      <th>0</th>\n",
              "      <td>2000-06-27</td>\n",
              "      <td>2000</td>\n",
              "      <td>21</td>\n",
              "    </tr>\n",
              "    <tr>\n",
              "      <th>1</th>\n",
              "      <td>2002-09-24</td>\n",
              "      <td>2002</td>\n",
              "      <td>19</td>\n",
              "    </tr>\n",
              "    <tr>\n",
              "      <th>2</th>\n",
              "      <td>2005-12-20</td>\n",
              "      <td>2005</td>\n",
              "      <td>16</td>\n",
              "    </tr>\n",
              "  </tbody>\n",
              "</table>\n",
              "</div>"
            ],
            "text/plain": [
              "   yyyy-mm-dd  year  age\n",
              "0  2000-06-27  2000   21\n",
              "1  2002-09-24  2002   19\n",
              "2  2005-12-20  2005   16"
            ]
          },
          "metadata": {
            "tags": []
          },
          "execution_count": 17
        }
      ]
    },
    {
      "cell_type": "code",
      "metadata": {
        "id": "f5vzh-7yEDP-",
        "colab_type": "code",
        "colab": {}
      },
      "source": [
        "def get_introduce(age,prefix,suffix):\n",
        "    return prefix+str(age)+suffix#멀티플 파라미터 사용 가능"
      ],
      "execution_count": null,
      "outputs": []
    },
    {
      "cell_type": "code",
      "metadata": {
        "id": "gsBSeNtxEDQA",
        "colab_type": "code",
        "colab": {}
      },
      "source": [
        "df['introduce']=df['age'].apply(get_introduce,prefix=\"I am\",suffix=\"years old\")#I am+나이+years old가 introduce column으로 들어가도록 apply"
      ],
      "execution_count": null,
      "outputs": []
    },
    {
      "cell_type": "code",
      "metadata": {
        "scrolled": true,
        "id": "GIfDO7E-EDQB",
        "colab_type": "code",
        "colab": {},
        "outputId": "5e9ad1ea-96c5-4c43-f9c6-a43457a1e4a3"
      },
      "source": [
        "df"
      ],
      "execution_count": null,
      "outputs": [
        {
          "output_type": "execute_result",
          "data": {
            "text/html": [
              "<div>\n",
              "<style scoped>\n",
              "    .dataframe tbody tr th:only-of-type {\n",
              "        vertical-align: middle;\n",
              "    }\n",
              "\n",
              "    .dataframe tbody tr th {\n",
              "        vertical-align: top;\n",
              "    }\n",
              "\n",
              "    .dataframe thead th {\n",
              "        text-align: right;\n",
              "    }\n",
              "</style>\n",
              "<table border=\"1\" class=\"dataframe\">\n",
              "  <thead>\n",
              "    <tr style=\"text-align: right;\">\n",
              "      <th></th>\n",
              "      <th>yyyy-mm-dd</th>\n",
              "      <th>year</th>\n",
              "      <th>age</th>\n",
              "      <th>introduce</th>\n",
              "    </tr>\n",
              "  </thead>\n",
              "  <tbody>\n",
              "    <tr>\n",
              "      <th>0</th>\n",
              "      <td>2000-06-27</td>\n",
              "      <td>2000</td>\n",
              "      <td>21</td>\n",
              "      <td>I am21years old</td>\n",
              "    </tr>\n",
              "    <tr>\n",
              "      <th>1</th>\n",
              "      <td>2002-09-24</td>\n",
              "      <td>2002</td>\n",
              "      <td>19</td>\n",
              "      <td>I am19years old</td>\n",
              "    </tr>\n",
              "    <tr>\n",
              "      <th>2</th>\n",
              "      <td>2005-12-20</td>\n",
              "      <td>2005</td>\n",
              "      <td>16</td>\n",
              "      <td>I am16years old</td>\n",
              "    </tr>\n",
              "  </tbody>\n",
              "</table>\n",
              "</div>"
            ],
            "text/plain": [
              "   yyyy-mm-dd  year  age        introduce\n",
              "0  2000-06-27  2000   21  I am21years old\n",
              "1  2002-09-24  2002   19  I am19years old\n",
              "2  2005-12-20  2005   16  I am16years old"
            ]
          },
          "metadata": {
            "tags": []
          },
          "execution_count": 21
        }
      ]
    },
    {
      "cell_type": "code",
      "metadata": {
        "id": "t1ArPeEHEDQD",
        "colab_type": "code",
        "colab": {}
      },
      "source": [
        "#여러개의 column을 한 번에 apply 가능한가?"
      ],
      "execution_count": null,
      "outputs": []
    },
    {
      "cell_type": "code",
      "metadata": {
        "id": "i6xo60vCEDQF",
        "colab_type": "code",
        "colab": {}
      },
      "source": [
        "def get_introduce_2(row):\n",
        "    return \"I was born in\"+str(row.year)+\" my age is\"+str(row.age)#year과 age 두 개의 column"
      ],
      "execution_count": null,
      "outputs": []
    },
    {
      "cell_type": "code",
      "metadata": {
        "id": "hqR8flWDEDQG",
        "colab_type": "code",
        "colab": {}
      },
      "source": [
        "df.introduce=df.apply(get_introduce_2,axis=1)#axis=1을 통해 row에 있는 모든 column 활용 가능/df.introduce==df['introduce']"
      ],
      "execution_count": null,
      "outputs": []
    },
    {
      "cell_type": "code",
      "metadata": {
        "id": "PlC8ZaHuEDQI",
        "colab_type": "code",
        "colab": {},
        "outputId": "2ad88f2a-584e-4ad8-8cf2-ee863d8bb43f"
      },
      "source": [
        "df"
      ],
      "execution_count": null,
      "outputs": [
        {
          "output_type": "execute_result",
          "data": {
            "text/html": [
              "<div>\n",
              "<style scoped>\n",
              "    .dataframe tbody tr th:only-of-type {\n",
              "        vertical-align: middle;\n",
              "    }\n",
              "\n",
              "    .dataframe tbody tr th {\n",
              "        vertical-align: top;\n",
              "    }\n",
              "\n",
              "    .dataframe thead th {\n",
              "        text-align: right;\n",
              "    }\n",
              "</style>\n",
              "<table border=\"1\" class=\"dataframe\">\n",
              "  <thead>\n",
              "    <tr style=\"text-align: right;\">\n",
              "      <th></th>\n",
              "      <th>yyyy-mm-dd</th>\n",
              "      <th>year</th>\n",
              "      <th>age</th>\n",
              "      <th>introduce</th>\n",
              "    </tr>\n",
              "  </thead>\n",
              "  <tbody>\n",
              "    <tr>\n",
              "      <th>0</th>\n",
              "      <td>2000-06-27</td>\n",
              "      <td>2000</td>\n",
              "      <td>21</td>\n",
              "      <td>I was born in2000 my age is21</td>\n",
              "    </tr>\n",
              "    <tr>\n",
              "      <th>1</th>\n",
              "      <td>2002-09-24</td>\n",
              "      <td>2002</td>\n",
              "      <td>19</td>\n",
              "      <td>I was born in2002 my age is19</td>\n",
              "    </tr>\n",
              "    <tr>\n",
              "      <th>2</th>\n",
              "      <td>2005-12-20</td>\n",
              "      <td>2005</td>\n",
              "      <td>16</td>\n",
              "      <td>I was born in2005 my age is16</td>\n",
              "    </tr>\n",
              "  </tbody>\n",
              "</table>\n",
              "</div>"
            ],
            "text/plain": [
              "   yyyy-mm-dd  year  age                      introduce\n",
              "0  2000-06-27  2000   21  I was born in2000 my age is21\n",
              "1  2002-09-24  2002   19  I was born in2002 my age is19\n",
              "2  2005-12-20  2005   16  I was born in2005 my age is16"
            ]
          },
          "metadata": {
            "tags": []
          },
          "execution_count": 28
        }
      ]
    },
    {
      "cell_type": "code",
      "metadata": {
        "id": "O_M4ghu-EDQK",
        "colab_type": "code",
        "colab": {}
      },
      "source": [
        ""
      ],
      "execution_count": null,
      "outputs": []
    }
  ]
}