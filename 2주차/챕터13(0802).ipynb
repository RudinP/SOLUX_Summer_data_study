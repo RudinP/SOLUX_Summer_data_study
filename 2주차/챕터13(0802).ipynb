{
  "nbformat": 4,
  "nbformat_minor": 0,
  "metadata": {
    "kernelspec": {
      "display_name": "Python 3",
      "language": "python",
      "name": "python3"
    },
    "language_info": {
      "codemirror_mode": {
        "name": "ipython",
        "version": 3
      },
      "file_extension": ".py",
      "mimetype": "text/x-python",
      "name": "python",
      "nbconvert_exporter": "python",
      "pygments_lexer": "ipython3",
      "version": "3.8.5"
    },
    "colab": {
      "name": "챕터13(0802).ipynb",
      "provenance": [],
      "include_colab_link": true
    }
  },
  "cells": [
    {
      "cell_type": "markdown",
      "metadata": {
        "id": "view-in-github",
        "colab_type": "text"
      },
      "source": [
        "<a href=\"https://colab.research.google.com/github/RudinP/SOLUX_Summer_data_study/blob/master/2%EC%A3%BC%EC%B0%A8/%EC%B1%95%ED%84%B013(0802).ipynb\" target=\"_parent\"><img src=\"https://colab.research.google.com/assets/colab-badge.svg\" alt=\"Open In Colab\"/></a>"
      ]
    },
    {
      "cell_type": "code",
      "metadata": {
        "id": "eZtqluDzYXD2",
        "colab_type": "code",
        "colab": {},
        "outputId": "def5b155-1af9-4355-d222-46d136ebdcb0"
      },
      "source": [
        "import pandas as pd\n",
        "job_list=[{'name':'John','job':'teacher'},\n",
        "         {'name':'Nate','job':'teacher'},\n",
        "         {'name':'Fred','job':'teacher'},\n",
        "         {'name':'Abra','job':'student'},\n",
        "         {'name':'Bria','job':'student'},\n",
        "         {'name':'Jann','job':'developer'},\n",
        "         {'name':'Nate','job':'teacher'},\n",
        "         {'name':'Ian','job':'teacher'},\n",
        "         {'name':'Chri','job':'banker'},\n",
        "         {'name':'Phil','job':'lawyer'},\n",
        "         {'name':'Jann','job':'basketball player'},\n",
        "         {'name':'Gwen','job':'teacher'},\n",
        "         {'name':'Jess','job':'student'},\n",
        "]#치느라 힘들었다\n",
        "df=pd.DataFrame(job_list, columns=['name','job'])\n",
        "df"
      ],
      "execution_count": null,
      "outputs": [
        {
          "output_type": "execute_result",
          "data": {
            "text/html": [
              "<div>\n",
              "<style scoped>\n",
              "    .dataframe tbody tr th:only-of-type {\n",
              "        vertical-align: middle;\n",
              "    }\n",
              "\n",
              "    .dataframe tbody tr th {\n",
              "        vertical-align: top;\n",
              "    }\n",
              "\n",
              "    .dataframe thead th {\n",
              "        text-align: right;\n",
              "    }\n",
              "</style>\n",
              "<table border=\"1\" class=\"dataframe\">\n",
              "  <thead>\n",
              "    <tr style=\"text-align: right;\">\n",
              "      <th></th>\n",
              "      <th>name</th>\n",
              "      <th>job</th>\n",
              "    </tr>\n",
              "  </thead>\n",
              "  <tbody>\n",
              "    <tr>\n",
              "      <th>0</th>\n",
              "      <td>John</td>\n",
              "      <td>teacher</td>\n",
              "    </tr>\n",
              "    <tr>\n",
              "      <th>1</th>\n",
              "      <td>Nate</td>\n",
              "      <td>teacher</td>\n",
              "    </tr>\n",
              "    <tr>\n",
              "      <th>2</th>\n",
              "      <td>Fred</td>\n",
              "      <td>teacher</td>\n",
              "    </tr>\n",
              "    <tr>\n",
              "      <th>3</th>\n",
              "      <td>Abra</td>\n",
              "      <td>student</td>\n",
              "    </tr>\n",
              "    <tr>\n",
              "      <th>4</th>\n",
              "      <td>Bria</td>\n",
              "      <td>student</td>\n",
              "    </tr>\n",
              "    <tr>\n",
              "      <th>5</th>\n",
              "      <td>Jann</td>\n",
              "      <td>developer</td>\n",
              "    </tr>\n",
              "    <tr>\n",
              "      <th>6</th>\n",
              "      <td>Nate</td>\n",
              "      <td>teacher</td>\n",
              "    </tr>\n",
              "    <tr>\n",
              "      <th>7</th>\n",
              "      <td>Ian</td>\n",
              "      <td>teacher</td>\n",
              "    </tr>\n",
              "    <tr>\n",
              "      <th>8</th>\n",
              "      <td>Chri</td>\n",
              "      <td>banker</td>\n",
              "    </tr>\n",
              "    <tr>\n",
              "      <th>9</th>\n",
              "      <td>Phil</td>\n",
              "      <td>lawyer</td>\n",
              "    </tr>\n",
              "    <tr>\n",
              "      <th>10</th>\n",
              "      <td>Jann</td>\n",
              "      <td>basketball player</td>\n",
              "    </tr>\n",
              "    <tr>\n",
              "      <th>11</th>\n",
              "      <td>Gwen</td>\n",
              "      <td>teacher</td>\n",
              "    </tr>\n",
              "    <tr>\n",
              "      <th>12</th>\n",
              "      <td>Jess</td>\n",
              "      <td>student</td>\n",
              "    </tr>\n",
              "  </tbody>\n",
              "</table>\n",
              "</div>"
            ],
            "text/plain": [
              "    name                job\n",
              "0   John            teacher\n",
              "1   Nate            teacher\n",
              "2   Fred            teacher\n",
              "3   Abra            student\n",
              "4   Bria            student\n",
              "5   Jann          developer\n",
              "6   Nate            teacher\n",
              "7    Ian            teacher\n",
              "8   Chri             banker\n",
              "9   Phil             lawyer\n",
              "10  Jann  basketball player\n",
              "11  Gwen            teacher\n",
              "12  Jess            student"
            ]
          },
          "metadata": {
            "tags": []
          },
          "execution_count": 2
        }
      ]
    },
    {
      "cell_type": "code",
      "metadata": {
        "id": "eYOnz2XkYXD6",
        "colab_type": "code",
        "colab": {},
        "outputId": "f65377c0-5ef9-438d-99d2-95d914b752d3"
      },
      "source": [
        "df.job.unique()#job column에 있는 값들을 중복없이 나열.class에 있는 값들을 하나씩."
      ],
      "execution_count": null,
      "outputs": [
        {
          "output_type": "execute_result",
          "data": {
            "text/plain": [
              "array(['teacher', 'student', 'developer', 'banker', 'lawyer',\n",
              "       'basketball player'], dtype=object)"
            ]
          },
          "metadata": {
            "tags": []
          },
          "execution_count": 3
        }
      ]
    },
    {
      "cell_type": "code",
      "metadata": {
        "id": "-zuo8QgdYXD8",
        "colab_type": "code",
        "colab": {},
        "outputId": "99d9f3e0-5290-48e5-e1c3-46e7d03e92e8"
      },
      "source": [
        "#각 직업별로 몇개씩 있는지 알려면\n",
        "df.job.value_counts()"
      ],
      "execution_count": null,
      "outputs": [
        {
          "output_type": "execute_result",
          "data": {
            "text/plain": [
              "teacher              6\n",
              "student              3\n",
              "banker               1\n",
              "basketball player    1\n",
              "developer            1\n",
              "lawyer               1\n",
              "Name: job, dtype: int64"
            ]
          },
          "metadata": {
            "tags": []
          },
          "execution_count": 4
        }
      ]
    },
    {
      "cell_type": "code",
      "metadata": {
        "id": "iNfEI0KbYXD-",
        "colab_type": "code",
        "colab": {}
      },
      "source": [
        ""
      ],
      "execution_count": null,
      "outputs": []
    }
  ]
}