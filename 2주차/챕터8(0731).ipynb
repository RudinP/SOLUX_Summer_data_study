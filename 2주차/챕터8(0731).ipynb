{
  "nbformat": 4,
  "nbformat_minor": 0,
  "metadata": {
    "kernelspec": {
      "display_name": "Python 3",
      "language": "python",
      "name": "python3"
    },
    "language_info": {
      "codemirror_mode": {
        "name": "ipython",
        "version": 3
      },
      "file_extension": ".py",
      "mimetype": "text/x-python",
      "name": "python",
      "nbconvert_exporter": "python",
      "pygments_lexer": "ipython3",
      "version": "3.8.5"
    },
    "colab": {
      "name": "챕터8(0731).ipynb",
      "provenance": [],
      "include_colab_link": true
    }
  },
  "cells": [
    {
      "cell_type": "markdown",
      "metadata": {
        "id": "view-in-github",
        "colab_type": "text"
      },
      "source": [
        "<a href=\"https://colab.research.google.com/github/RudinP/SOLUX_Summer_data_study/blob/master/2%EC%A3%BC%EC%B0%A8/%EC%B1%95%ED%84%B08(0731).ipynb\" target=\"_parent\"><img src=\"https://colab.research.google.com/assets/colab-badge.svg\" alt=\"Open In Colab\"/></a>"
      ]
    },
    {
      "cell_type": "code",
      "metadata": {
        "id": "_h4qwylGLXRc",
        "colab_type": "code",
        "colab": {}
      },
      "source": [
        "import pandas as pd"
      ],
      "execution_count": null,
      "outputs": []
    },
    {
      "cell_type": "code",
      "metadata": {
        "id": "BukT2dLkLXRf",
        "colab_type": "code",
        "colab": {}
      },
      "source": [
        "student_list=[\n",
        "    {'name':'John','major':'Computer Science','sex':'male'},\n",
        "    {'name':'Nate','major':'Computer Science','sex':'male'},\n",
        "    {'name':'Abraham','major':'Physics','sex':'male'},\n",
        "    {'name':'Brian','major':'Psychology','sex':'male'},\n",
        "    {'name':'Janny','major':'Economics','sex':'female'},\n",
        "    {'name':'Yuna','major':'Economics','sex':'female'},\n",
        "    {'name':'Jeniffer','major':'Computer Science','sex':'female'},\n",
        "    {'name':'Edward','major':'Computer Science','sex':'male'},\n",
        "    {'name':'Zara','major':'Psychology','sex':'female'},\n",
        "    {'name':'Wendy','major':'Economics','sex':'female'},\n",
        "    {'name':'Sera','major':'Psychology','sex':'female'}\n",
        "]#치느라 힘들었다\n",
        "df=pd.DataFrame(student_list, columns=['name','major','sex'])"
      ],
      "execution_count": null,
      "outputs": []
    },
    {
      "cell_type": "code",
      "metadata": {
        "id": "crrtaSdhLXRh",
        "colab_type": "code",
        "colab": {},
        "outputId": "357f1ef2-d68e-4ba6-e752-c9350ccf1697"
      },
      "source": [
        "df"
      ],
      "execution_count": null,
      "outputs": [
        {
          "output_type": "execute_result",
          "data": {
            "text/html": [
              "<div>\n",
              "<style scoped>\n",
              "    .dataframe tbody tr th:only-of-type {\n",
              "        vertical-align: middle;\n",
              "    }\n",
              "\n",
              "    .dataframe tbody tr th {\n",
              "        vertical-align: top;\n",
              "    }\n",
              "\n",
              "    .dataframe thead th {\n",
              "        text-align: right;\n",
              "    }\n",
              "</style>\n",
              "<table border=\"1\" class=\"dataframe\">\n",
              "  <thead>\n",
              "    <tr style=\"text-align: right;\">\n",
              "      <th></th>\n",
              "      <th>name</th>\n",
              "      <th>major</th>\n",
              "      <th>sex</th>\n",
              "    </tr>\n",
              "  </thead>\n",
              "  <tbody>\n",
              "    <tr>\n",
              "      <th>0</th>\n",
              "      <td>John</td>\n",
              "      <td>Computer Science</td>\n",
              "      <td>male</td>\n",
              "    </tr>\n",
              "    <tr>\n",
              "      <th>1</th>\n",
              "      <td>Nate</td>\n",
              "      <td>Computer Science</td>\n",
              "      <td>male</td>\n",
              "    </tr>\n",
              "    <tr>\n",
              "      <th>2</th>\n",
              "      <td>Abraham</td>\n",
              "      <td>Physics</td>\n",
              "      <td>male</td>\n",
              "    </tr>\n",
              "    <tr>\n",
              "      <th>3</th>\n",
              "      <td>Brian</td>\n",
              "      <td>Psychology</td>\n",
              "      <td>male</td>\n",
              "    </tr>\n",
              "    <tr>\n",
              "      <th>4</th>\n",
              "      <td>Janny</td>\n",
              "      <td>Economics</td>\n",
              "      <td>female</td>\n",
              "    </tr>\n",
              "    <tr>\n",
              "      <th>5</th>\n",
              "      <td>Yuna</td>\n",
              "      <td>Economics</td>\n",
              "      <td>female</td>\n",
              "    </tr>\n",
              "    <tr>\n",
              "      <th>6</th>\n",
              "      <td>Jeniffer</td>\n",
              "      <td>Computer Science</td>\n",
              "      <td>female</td>\n",
              "    </tr>\n",
              "    <tr>\n",
              "      <th>7</th>\n",
              "      <td>Edward</td>\n",
              "      <td>Computer Science</td>\n",
              "      <td>male</td>\n",
              "    </tr>\n",
              "    <tr>\n",
              "      <th>8</th>\n",
              "      <td>Zara</td>\n",
              "      <td>Psychology</td>\n",
              "      <td>female</td>\n",
              "    </tr>\n",
              "    <tr>\n",
              "      <th>9</th>\n",
              "      <td>Wendy</td>\n",
              "      <td>Economics</td>\n",
              "      <td>female</td>\n",
              "    </tr>\n",
              "    <tr>\n",
              "      <th>10</th>\n",
              "      <td>Sera</td>\n",
              "      <td>Psychology</td>\n",
              "      <td>female</td>\n",
              "    </tr>\n",
              "  </tbody>\n",
              "</table>\n",
              "</div>"
            ],
            "text/plain": [
              "        name             major     sex\n",
              "0       John  Computer Science    male\n",
              "1       Nate  Computer Science    male\n",
              "2    Abraham           Physics    male\n",
              "3      Brian        Psychology    male\n",
              "4      Janny         Economics  female\n",
              "5       Yuna         Economics  female\n",
              "6   Jeniffer  Computer Science  female\n",
              "7     Edward  Computer Science    male\n",
              "8       Zara        Psychology  female\n",
              "9      Wendy         Economics  female\n",
              "10      Sera        Psychology  female"
            ]
          },
          "metadata": {
            "tags": []
          },
          "execution_count": 3
        }
      ]
    },
    {
      "cell_type": "code",
      "metadata": {
        "id": "p9BtlyR_LXRj",
        "colab_type": "code",
        "colab": {}
      },
      "source": [
        "groupby_major=df.groupby('major')#major기준으로 그룹바이"
      ],
      "execution_count": null,
      "outputs": []
    },
    {
      "cell_type": "code",
      "metadata": {
        "id": "PyzfO2eXLXRm",
        "colab_type": "code",
        "colab": {},
        "outputId": "495c0bac-da6b-4925-af22-5214b5445a0e"
      },
      "source": [
        "groupby_major.groups#그룹확인"
      ],
      "execution_count": null,
      "outputs": [
        {
          "output_type": "execute_result",
          "data": {
            "text/plain": [
              "{'Computer Science': Int64Index([0, 1, 6, 7], dtype='int64'),\n",
              " 'Economics': Int64Index([4, 5, 9], dtype='int64'),\n",
              " 'Physics': Int64Index([2], dtype='int64'),\n",
              " 'Psychology': Int64Index([3, 8, 10], dtype='int64')}"
            ]
          },
          "metadata": {
            "tags": []
          },
          "execution_count": 5
        }
      ]
    },
    {
      "cell_type": "code",
      "metadata": {
        "id": "ccTpRt2jLXRo",
        "colab_type": "code",
        "colab": {},
        "outputId": "9a4927b6-3214-495d-c54a-bccd69990210"
      },
      "source": [
        "for name, group in groupby_major:#비주얼라이즈, groupby_major 기준 name,group변수로 반복하여 불러옴\n",
        "    print(name+\":\"+str(len(group)))#해당하는 그룹의 이름: 그룹에 해당하는 데이터 수(major 기준 )\n",
        "    print(group)#해당하는 그룹의  데이터\n",
        "    print()"
      ],
      "execution_count": null,
      "outputs": [
        {
          "output_type": "stream",
          "text": [
            "Computer Science:4\n",
            "       name             major     sex\n",
            "0      John  Computer Science    male\n",
            "1      Nate  Computer Science    male\n",
            "6  Jeniffer  Computer Science  female\n",
            "7    Edward  Computer Science    male\n",
            "\n",
            "Economics:3\n",
            "    name      major     sex\n",
            "4  Janny  Economics  female\n",
            "5   Yuna  Economics  female\n",
            "9  Wendy  Economics  female\n",
            "\n",
            "Physics:1\n",
            "      name    major   sex\n",
            "2  Abraham  Physics  male\n",
            "\n",
            "Psychology:3\n",
            "     name       major     sex\n",
            "3   Brian  Psychology    male\n",
            "8    Zara  Psychology  female\n",
            "10   Sera  Psychology  female\n",
            "\n"
          ],
          "name": "stdout"
        }
      ]
    },
    {
      "cell_type": "code",
      "metadata": {
        "id": "RKge8pZQLXRq",
        "colab_type": "code",
        "colab": {},
        "outputId": "30bf211a-ebfd-4da7-ff73-5e8410e13278"
      },
      "source": [
        "df_major_cnt=pd.DataFrame({'count':groupby_major.size()}).reset_index()#major기준으로 몇명있는지 count column로 나타냄.reset_index()통해 컬럼화해 열을 맞춤\n",
        "df_major_cnt"
      ],
      "execution_count": null,
      "outputs": [
        {
          "output_type": "execute_result",
          "data": {
            "text/html": [
              "<div>\n",
              "<style scoped>\n",
              "    .dataframe tbody tr th:only-of-type {\n",
              "        vertical-align: middle;\n",
              "    }\n",
              "\n",
              "    .dataframe tbody tr th {\n",
              "        vertical-align: top;\n",
              "    }\n",
              "\n",
              "    .dataframe thead th {\n",
              "        text-align: right;\n",
              "    }\n",
              "</style>\n",
              "<table border=\"1\" class=\"dataframe\">\n",
              "  <thead>\n",
              "    <tr style=\"text-align: right;\">\n",
              "      <th></th>\n",
              "      <th>major</th>\n",
              "      <th>count</th>\n",
              "    </tr>\n",
              "  </thead>\n",
              "  <tbody>\n",
              "    <tr>\n",
              "      <th>0</th>\n",
              "      <td>Computer Science</td>\n",
              "      <td>4</td>\n",
              "    </tr>\n",
              "    <tr>\n",
              "      <th>1</th>\n",
              "      <td>Economics</td>\n",
              "      <td>3</td>\n",
              "    </tr>\n",
              "    <tr>\n",
              "      <th>2</th>\n",
              "      <td>Physics</td>\n",
              "      <td>1</td>\n",
              "    </tr>\n",
              "    <tr>\n",
              "      <th>3</th>\n",
              "      <td>Psychology</td>\n",
              "      <td>3</td>\n",
              "    </tr>\n",
              "  </tbody>\n",
              "</table>\n",
              "</div>"
            ],
            "text/plain": [
              "              major  count\n",
              "0  Computer Science      4\n",
              "1         Economics      3\n",
              "2           Physics      1\n",
              "3        Psychology      3"
            ]
          },
          "metadata": {
            "tags": []
          },
          "execution_count": 7
        }
      ]
    },
    {
      "cell_type": "code",
      "metadata": {
        "id": "xovKZ-gDLXRs",
        "colab_type": "code",
        "colab": {}
      },
      "source": [
        "groupby_sex=df.groupby('sex')#성별로 그룹화"
      ],
      "execution_count": null,
      "outputs": []
    },
    {
      "cell_type": "code",
      "metadata": {
        "id": "B-nOq2pQLXRt",
        "colab_type": "code",
        "colab": {},
        "outputId": "9cf08524-7e9c-4346-e311-0ae3a97f02d4"
      },
      "source": [
        "for name, group in groupby_sex:#비주얼라이즈, groupby_sex 기준 name,group변수로 반복하여 불러옴\n",
        "    print(name+\":\"+str(len(group)))#해당하는 그룹의 이름: 그룹에 해당하는 데이터 수(sex 기준 )\n",
        "    print(group)#해당하는 그룹의  데이터\n",
        "    print()"
      ],
      "execution_count": null,
      "outputs": [
        {
          "output_type": "stream",
          "text": [
            "female:6\n",
            "        name             major     sex\n",
            "4      Janny         Economics  female\n",
            "5       Yuna         Economics  female\n",
            "6   Jeniffer  Computer Science  female\n",
            "8       Zara        Psychology  female\n",
            "9      Wendy         Economics  female\n",
            "10      Sera        Psychology  female\n",
            "\n",
            "male:5\n",
            "      name             major   sex\n",
            "0     John  Computer Science  male\n",
            "1     Nate  Computer Science  male\n",
            "2  Abraham           Physics  male\n",
            "3    Brian        Psychology  male\n",
            "7   Edward  Computer Science  male\n",
            "\n"
          ],
          "name": "stdout"
        }
      ]
    },
    {
      "cell_type": "code",
      "metadata": {
        "id": "Ki2zEeRkLXRv",
        "colab_type": "code",
        "colab": {}
      },
      "source": [
        ""
      ],
      "execution_count": null,
      "outputs": []
    }
  ]
}