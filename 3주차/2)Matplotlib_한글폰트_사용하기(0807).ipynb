{
  "nbformat": 4,
  "nbformat_minor": 0,
  "metadata": {
    "colab": {
      "name": "2)Matplotlib 한글폰트 사용하기(0807).ipynb",
      "provenance": [],
      "collapsed_sections": [],
      "authorship_tag": "ABX9TyP2XKpzhBq7FqayuCzYbQqm",
      "include_colab_link": true
    },
    "kernelspec": {
      "name": "python3",
      "display_name": "Python 3"
    }
  },
  "cells": [
    {
      "cell_type": "markdown",
      "metadata": {
        "id": "view-in-github",
        "colab_type": "text"
      },
      "source": [
        "<a href=\"https://colab.research.google.com/github/RudinP/SOLUX_Summer_data_study/blob/master/3%EC%A3%BC%EC%B0%A8/2)Matplotlib_%ED%95%9C%EA%B8%80%ED%8F%B0%ED%8A%B8_%EC%82%AC%EC%9A%A9%ED%95%98%EA%B8%B0(0807).ipynb\" target=\"_parent\"><img src=\"https://colab.research.google.com/assets/colab-badge.svg\" alt=\"Open In Colab\"/></a>"
      ]
    },
    {
      "cell_type": "code",
      "metadata": {
        "id": "Y0jH5YRpis82",
        "colab_type": "code",
        "colab": {
          "base_uri": "https://localhost:8080/",
          "height": 357
        },
        "outputId": "84608b84-2544-4877-fa2d-0f2a4636c35a"
      },
      "source": [
        "!sudo apt-get install -y fonts-nanum\n",
        "!sudo fc-cache -fv\n",
        "!rm ~/.cache/matplotlib -rf"
      ],
      "execution_count": 10,
      "outputs": [
        {
          "output_type": "stream",
          "text": [
            "Reading package lists... Done\n",
            "Building dependency tree       \n",
            "Reading state information... Done\n",
            "fonts-nanum is already the newest version (20170925-1).\n",
            "The following package was automatically installed and is no longer required:\n",
            "  libnvidia-common-440\n",
            "Use 'sudo apt autoremove' to remove it.\n",
            "0 upgraded, 0 newly installed, 0 to remove and 35 not upgraded.\n",
            "/usr/share/fonts: caching, new cache contents: 0 fonts, 1 dirs\n",
            "/usr/share/fonts/truetype: caching, new cache contents: 0 fonts, 3 dirs\n",
            "/usr/share/fonts/truetype/humor-sans: caching, new cache contents: 1 fonts, 0 dirs\n",
            "/usr/share/fonts/truetype/liberation: caching, new cache contents: 16 fonts, 0 dirs\n",
            "/usr/share/fonts/truetype/nanum: caching, new cache contents: 10 fonts, 0 dirs\n",
            "/usr/local/share/fonts: caching, new cache contents: 0 fonts, 0 dirs\n",
            "/root/.local/share/fonts: skipping, no such directory\n",
            "/root/.fonts: skipping, no such directory\n",
            "/var/cache/fontconfig: cleaning cache directory\n",
            "/root/.cache/fontconfig: not cleaning non-existent cache directory\n",
            "/root/.fontconfig: not cleaning non-existent cache directory\n",
            "fc-cache: succeeded\n"
          ],
          "name": "stdout"
        }
      ]
    },
    {
      "cell_type": "code",
      "metadata": {
        "id": "eSMiIRa3UuJ-",
        "colab_type": "code",
        "colab": {}
      },
      "source": [
        "#Matplotlib은 파이썬에서 그래프로 데이터시각화를 할 때에 쓰인다\n",
        "%matplotlib inline \n",
        "#그래프를 노트북 안에 그리기 위해 설정\n",
        "\n",
        "#필요한 패키지와 라이브러리를 가져옴\n",
        "import matplotlib as mpl\n",
        "import matplotlib.pyplot as plt\n",
        "import matplotlib.font_manager as fm\n",
        "\n",
        "#그래프에서 마이너스 폰트 깨지는 문제에 대한 대처\n",
        "mpl.rcParams['axes.unicode_minus']=False\n",
        "plt.rc('font', family='NanumBarunGothic') "
      ],
      "execution_count": 11,
      "outputs": []
    },
    {
      "cell_type": "code",
      "metadata": {
        "id": "uwaoV86JXB5d",
        "colab_type": "code",
        "colab": {
          "base_uri": "https://localhost:8080/",
          "height": 102
        },
        "outputId": "af2d9647-8ea0-44e5-ffd1-32fe265fe339"
      },
      "source": [
        "import numpy as np\n",
        "data=np.random.randint(-100,100,50).cumsum()#랜덤정수\n",
        "data#임의의 데이터를 만든다."
      ],
      "execution_count": 12,
      "outputs": [
        {
          "output_type": "execute_result",
          "data": {
            "text/plain": [
              "array([ -39,  -46, -139, -133, -179,  -96,  -82, -108,  -32,  -49,  -37,\n",
              "        -89, -103,  -53, -153,  -97,  -88,   -3,  -16,  -58,  -11,  -36,\n",
              "         31,  116,  143,  135,  168,  229,  148,  107,  195,  216,  308,\n",
              "        308,  345,  296,  377,  445,  528,  483,  528,  461,  410,  437,\n",
              "        419,  332,  355,  298,  291,  217])"
            ]
          },
          "metadata": {
            "tags": []
          },
          "execution_count": 12
        }
      ]
    },
    {
      "cell_type": "code",
      "metadata": {
        "id": "RpEPmePcXQ1Z",
        "colab_type": "code",
        "colab": {
          "base_uri": "https://localhost:8080/",
          "height": 311
        },
        "outputId": "e4135115-d05a-4df2-f5fa-de44e132c1f3"
      },
      "source": [
        "plt.plot(range(50),data,'r')\n",
        "mpl.rcParams['axes.unicode_minus']=False\n",
        "plt.title('시간별 가격 추이')\n",
        "plt.ylabel('주식 가격')#y축 label 인것같다\n",
        "plt.xlabel('시간(분)')#x축 label 인것같다\n",
        "#그런데 이렇게 하면 한글이 써진 곳은 폰트가 깨진다,,인데 다른 팁글 보고 plt.rc('font', family='NanumBarunGothic') 하였기 때문에 안 깨짐"
      ],
      "execution_count": 13,
      "outputs": [
        {
          "output_type": "execute_result",
          "data": {
            "text/plain": [
              "Text(0.5, 0, '시간(분)')"
            ]
          },
          "metadata": {
            "tags": []
          },
          "execution_count": 13
        },
        {
          "output_type": "display_data",
          "data": {
            "image/png": "[encoded data removed]",
            "text/plain": [
              "<Figure size 432x288 with 1 Axes>"
            ]
          },
          "metadata": {
            "tags": [],
            "needs_background": "light"
          }
        }
      ]
    },
    {
      "cell_type": "code",
      "metadata": {
        "id": "Yq06iJ7uXmof",
        "colab_type": "code",
        "colab": {
          "base_uri": "https://localhost:8080/",
          "height": 85
        },
        "outputId": "e4e994d2-be42-4469-b464-53d7e6e816eb"
      },
      "source": [
        "print ('버전:',mpl.__version__)#설치 된 matplotlib의 버전과 위치정보 가져오기\n",
        "print ('설치 위치:',mpl.__file__)\n",
        "print ('설정 위치:', mpl.get_configdir())\n",
        "print ('캐시 위치:', mpl.get_cachedir())"
      ],
      "execution_count": 14,
      "outputs": [
        {
          "output_type": "stream",
          "text": [
            "버전: 3.2.2\n",
            "설치 위치: /usr/local/lib/python3.6/dist-packages/matplotlib/__init__.py\n",
            "설정 위치: /root/.config/matplotlib\n",
            "캐시 위치: /root/.cache/matplotlib\n"
          ],
          "name": "stdout"
        }
      ]
    },
    {
      "cell_type": "code",
      "metadata": {
        "id": "mcsqOgUKez-3",
        "colab_type": "code",
        "colab": {
          "base_uri": "https://localhost:8080/",
          "height": 34
        },
        "outputId": "3944b28f-a3aa-4b60-9c8b-6f227080f591"
      },
      "source": [
        "print ('설정파일 위치:',mpl.matplotlib_fname())"
      ],
      "execution_count": 15,
      "outputs": [
        {
          "output_type": "stream",
          "text": [
            "설정파일 위치: /usr/local/lib/python3.6/dist-packages/matplotlib/mpl-data/matplotlibrc\n"
          ],
          "name": "stdout"
        }
      ]
    },
    {
      "cell_type": "code",
      "metadata": {
        "id": "t8y6onwse_XO",
        "colab_type": "code",
        "colab": {
          "base_uri": "https://localhost:8080/",
          "height": 34
        },
        "outputId": "11bc0cb7-578c-4810-8a6c-412aade75f96"
      },
      "source": [
        "font_list=fm.findSystemFonts(fontpaths=None, fontext='ttf')\n",
        "#ttf 폰트 전체개수\n",
        "print (len(font_list))"
      ],
      "execution_count": 16,
      "outputs": [
        {
          "output_type": "stream",
          "text": [
            "27\n"
          ],
          "name": "stdout"
        }
      ]
    },
    {
      "cell_type": "code",
      "metadata": {
        "id": "pqbWAjo8faSn",
        "colab_type": "code",
        "colab": {
          "base_uri": "https://localhost:8080/",
          "height": 85
        },
        "outputId": "becaaf14-e7eb-4573-a432-6201c493eb67"
      },
      "source": [
        "#OSX의 설치 된 폰트를 가져오는 함수\n",
        "font_list_mac=fm.OSXInstalledFonts()\n",
        "print(len(font_list))"
      ],
      "execution_count": 17,
      "outputs": [
        {
          "output_type": "stream",
          "text": [
            "27\n"
          ],
          "name": "stdout"
        },
        {
          "output_type": "stream",
          "text": [
            "/usr/local/lib/python3.6/dist-packages/ipykernel_launcher.py:2: MatplotlibDeprecationWarning: \n",
            "The OSXInstalledFonts function was deprecated in Matplotlib 3.1 and will be removed in 3.3.\n",
            "  \n"
          ],
          "name": "stderr"
        }
      ]
    },
    {
      "cell_type": "code",
      "metadata": {
        "id": "67Jau5pqfnhD",
        "colab_type": "code",
        "colab": {
          "base_uri": "https://localhost:8080/",
          "height": 476
        },
        "outputId": "68d56344-61bc-4bc1-fa4e-1beff5fd5468"
      },
      "source": [
        "#시스템 폰트에서 읽어온 리스트에서 상위 10개만 출력\n",
        "font_list[:27]"
      ],
      "execution_count": 18,
      "outputs": [
        {
          "output_type": "execute_result",
          "data": {
            "text/plain": [
              "['/usr/share/fonts/truetype/nanum/NanumSquareRoundB.ttf',\n",
              " '/usr/share/fonts/truetype/liberation/LiberationSans-Italic.ttf',\n",
              " '/usr/share/fonts/truetype/nanum/NanumSquareRoundR.ttf',\n",
              " '/usr/share/fonts/truetype/nanum/NanumMyeongjo.ttf',\n",
              " '/usr/share/fonts/truetype/liberation/LiberationMono-Bold.ttf',\n",
              " '/usr/share/fonts/truetype/liberation/LiberationSansNarrow-Regular.ttf',\n",
              " '/usr/share/fonts/truetype/nanum/NanumSquareR.ttf',\n",
              " '/usr/share/fonts/truetype/nanum/NanumSquareB.ttf',\n",
              " '/usr/share/fonts/truetype/nanum/NanumGothic.ttf',\n",
              " '/usr/share/fonts/truetype/liberation/LiberationSansNarrow-Italic.ttf',\n",
              " '/usr/share/fonts/truetype/liberation/LiberationSerif-Italic.ttf',\n",
              " '/usr/share/fonts/truetype/liberation/LiberationSans-Regular.ttf',\n",
              " '/usr/share/fonts/truetype/nanum/NanumMyeongjoBold.ttf',\n",
              " '/usr/share/fonts/truetype/liberation/LiberationSansNarrow-Bold.ttf',\n",
              " '/usr/share/fonts/truetype/liberation/LiberationMono-BoldItalic.ttf',\n",
              " '/usr/share/fonts/truetype/liberation/LiberationSerif-Regular.ttf',\n",
              " '/usr/share/fonts/truetype/nanum/NanumBarunGothicBold.ttf',\n",
              " '/usr/share/fonts/truetype/liberation/LiberationSansNarrow-BoldItalic.ttf',\n",
              " '/usr/share/fonts/truetype/liberation/LiberationSans-Bold.ttf',\n",
              " '/usr/share/fonts/truetype/humor-sans/Humor-Sans.ttf',\n",
              " '/usr/share/fonts/truetype/nanum/NanumGothicBold.ttf',\n",
              " '/usr/share/fonts/truetype/liberation/LiberationSerif-BoldItalic.ttf',\n",
              " '/usr/share/fonts/truetype/liberation/LiberationMono-Italic.ttf',\n",
              " '/usr/share/fonts/truetype/nanum/NanumBarunGothic.ttf',\n",
              " '/usr/share/fonts/truetype/liberation/LiberationSerif-Bold.ttf',\n",
              " '/usr/share/fonts/truetype/liberation/LiberationMono-Regular.ttf',\n",
              " '/usr/share/fonts/truetype/liberation/LiberationSans-BoldItalic.ttf']"
            ]
          },
          "metadata": {
            "tags": []
          },
          "execution_count": 18
        }
      ]
    },
    {
      "cell_type": "code",
      "metadata": {
        "id": "Tu_-4AuHfuxF",
        "colab_type": "code",
        "colab": {
          "base_uri": "https://localhost:8080/",
          "height": 204
        },
        "outputId": "4530abd8-ee0d-41b0-a2c2-19331dd37461"
      },
      "source": [
        "f=[f.name for f in fm.fontManager.ttflist]\n",
        "print(len(font_list))\n",
        "#10개의 폰트명만 출력\n",
        "f[:10]"
      ],
      "execution_count": 19,
      "outputs": [
        {
          "output_type": "stream",
          "text": [
            "27\n"
          ],
          "name": "stdout"
        },
        {
          "output_type": "execute_result",
          "data": {
            "text/plain": [
              "['DejaVu Serif',\n",
              " 'STIXSizeOneSym',\n",
              " 'STIXSizeFourSym',\n",
              " 'DejaVu Sans Mono',\n",
              " 'DejaVu Sans Display',\n",
              " 'STIXSizeFiveSym',\n",
              " 'cmtt10',\n",
              " 'DejaVu Serif Display',\n",
              " 'STIXSizeTwoSym',\n",
              " 'DejaVu Sans Mono']"
            ]
          },
          "metadata": {
            "tags": []
          },
          "execution_count": 19
        }
      ]
    },
    {
      "cell_type": "code",
      "metadata": {
        "id": "2DMdW3L9f40p",
        "colab_type": "code",
        "colab": {
          "base_uri": "https://localhost:8080/",
          "height": 187
        },
        "outputId": "b8c871c7-ea19-4b87-e346-fff71fd7e53f"
      },
      "source": [
        "[f.name for f in fm.fontManager.ttflist if 'Nanum' in f.name ]"
      ],
      "execution_count": 20,
      "outputs": [
        {
          "output_type": "execute_result",
          "data": {
            "text/plain": [
              "['NanumSquareRound',\n",
              " 'NanumSquareRound',\n",
              " 'NanumMyeongjo',\n",
              " 'NanumSquare',\n",
              " 'NanumSquare',\n",
              " 'NanumGothic',\n",
              " 'NanumMyeongjo',\n",
              " 'NanumBarunGothic',\n",
              " 'NanumGothic',\n",
              " 'NanumBarunGothic']"
            ]
          },
          "metadata": {
            "tags": []
          },
          "execution_count": 20
        }
      ]
    },
    {
      "cell_type": "code",
      "metadata": {
        "id": "WlN5phn-gBAY",
        "colab_type": "code",
        "colab": {}
      },
      "source": [
        ""
      ],
      "execution_count": 20,
      "outputs": []
    },
    {
      "cell_type": "markdown",
      "metadata": {
        "id": "--Re51C2gce-",
        "colab_type": "text"
      },
      "source": [
        "폰트 사용 3가지 방법<br>\n",
        "1) FontProperties 사용-그래프의 폰트가 필요한 항목마다 지정해 주어야 함<br>\n",
        "2) matplotlib.rcParams[]로 전역글꼴 설정 방법-그래프에 설정을 해주면 폰트가 필요한 항목에 적용 됨<br>\n",
        "3) 2번의 방법을 mpl.matplotlib_fname()로 읽어지는 설정 파일에 직접 적어주는 방법, 단 모든 노트북에 적용된다. 노트북을 열때마다 지정할 필요 없음"
      ]
    },
    {
      "cell_type": "markdown",
      "metadata": {
        "id": "cn4d4isxg_i1",
        "colab_type": "text"
      },
      "source": [
        "1)FontProperties\n",
        "\n",
        "\n",
        "*   matplotlib.pyplot\n",
        "\n",
        "> title()\n",
        "\n",
        "\n",
        "> xlabel()\n",
        "\n",
        "\n",
        "> ylabel()\n",
        "\n",
        "\n",
        "> legend()\n",
        "\n",
        "\n",
        "> text()\n",
        "\n",
        "\n",
        "*   matplotlib.axes\n",
        "\n",
        "\n",
        "> set_title()\n",
        "\n",
        "\n",
        "\n",
        "\n",
        "\n",
        "\n",
        "\n",
        "\n",
        "\n",
        "\n",
        "\n",
        "\n",
        "\n",
        "\n",
        "\n",
        "\n",
        "\n",
        "\n",
        "\n",
        "\n"
      ]
    },
    {
      "cell_type": "code",
      "metadata": {
        "id": "QNmc6JXrhpZu",
        "colab_type": "code",
        "colab": {
          "base_uri": "https://localhost:8080/",
          "height": 307
        },
        "outputId": "2a392330-4dc4-4a32-e12c-7860e6fb4224"
      },
      "source": [
        "#fanme 옵션 사용\n",
        "path='/usr/share/fonts/truetype/nanum/NanumSquareRoundB.ttf'\n",
        "fontprop=fm.FontProperties(fname=path,size=18)\n",
        "\n",
        "plt.plot(range(50),data,'r')\n",
        "plt.title('시간별 가격 추이',fontproperties=fontprop)\n",
        "plt.ylabel('주식 가격',fontproperties=fontprop)\n",
        "plt.xlabel('시간(분)',fontproperties=fontprop)\n",
        "plt.show()"
      ],
      "execution_count": 21,
      "outputs": [
        {
          "output_type": "display_data",
          "data": {
            "image/png": "[encoded data removed]",
            "text/plain": [
              "<Figure size 432x288 with 1 Axes>"
            ]
          },
          "metadata": {
            "tags": [],
            "needs_background": "light"
          }
        }
      ]
    },
    {
      "cell_type": "markdown",
      "metadata": {
        "id": "qrUry1r6kAs2",
        "colab_type": "text"
      },
      "source": [
        "2)matplotlib.rcParams[]로 전역글꼴 설정"
      ]
    },
    {
      "cell_type": "code",
      "metadata": {
        "id": "Q6l3L2bwiHHX",
        "colab_type": "code",
        "colab": {
          "base_uri": "https://localhost:8080/",
          "height": 85
        },
        "outputId": "a891d3e7-b50f-44b4-d077-cd8b5bd080b6"
      },
      "source": [
        "#기본 설정 읽기\n",
        "import matplotlib.pyplot as plt\n",
        "#size, family\n",
        "print('#설정되어있는 폰트 사이즈')\n",
        "print(plt.rcParams['font.size'])\n",
        "print('#설정 되어있는 폰트 글꼴')\n",
        "print(plt.rcParams['font.family'])"
      ],
      "execution_count": 22,
      "outputs": [
        {
          "output_type": "stream",
          "text": [
            "#설정되어있는 폰트 사이즈\n",
            "10.0\n",
            "#설정 되어있는 폰트 글꼴\n",
            "['NanumBarunGothic']\n"
          ],
          "name": "stdout"
        }
      ]
    },
    {
      "cell_type": "code",
      "metadata": {
        "id": "0E98yuCYkVQd",
        "colab_type": "code",
        "colab": {}
      },
      "source": [
        "plt.rcParams['font.family']='NanumMyeongjo'\n",
        "plt.rcParams[\"font.size\"]=20\n",
        "plt.rcParams[\"figure.figsize\"]=(14,4)"
      ],
      "execution_count": 25,
      "outputs": []
    },
    {
      "cell_type": "code",
      "metadata": {
        "id": "tofYgewxkqb1",
        "colab_type": "code",
        "colab": {
          "base_uri": "https://localhost:8080/",
          "height": 315
        },
        "outputId": "b88e688a-9621-415a-b7e6-82ce888191f2"
      },
      "source": [
        "plt.plot(range(50),data,'r')\n",
        "plt.title('시간별 가격 추이')\n",
        "plt.ylabel('주식 가격')\n",
        "plt.xlabel('시간(분)')\n",
        "plt.show()"
      ],
      "execution_count": 26,
      "outputs": [
        {
          "output_type": "display_data",
          "data": {
            "image/png": "[encoded data removed]",
            "text/plain": [
              "<Figure size 1008x288 with 1 Axes>"
            ]
          },
          "metadata": {
            "tags": [],
            "needs_background": "light"
          }
        }
      ]
    },
    {
      "cell_type": "code",
      "metadata": {
        "id": "u-mVU6hSk014",
        "colab_type": "code",
        "colab": {}
      },
      "source": [
        ""
      ],
      "execution_count": null,
      "outputs": []
    },
    {
      "cell_type": "markdown",
      "metadata": {
        "id": "ZNqpImEqlByc",
        "colab_type": "text"
      },
      "source": [
        "3)rcParams를 설정파일에 직접 적어주기"
      ]
    },
    {
      "cell_type": "code",
      "metadata": {
        "id": "9LV5A2UnlOTH",
        "colab_type": "code",
        "colab": {
          "base_uri": "https://localhost:8080/",
          "height": 34
        },
        "outputId": "8e51ee5b-7278-4b5b-df6b-b4ed47e48afe"
      },
      "source": [
        "print ('설정파일 위치:',mpl.matplotlib_fname())"
      ],
      "execution_count": 28,
      "outputs": [
        {
          "output_type": "stream",
          "text": [
            "설정파일 위치: /usr/local/lib/python3.6/dist-packages/matplotlib/mpl-data/matplotlibrc\n"
          ],
          "name": "stdout"
        }
      ]
    },
    {
      "cell_type": "code",
      "metadata": {
        "id": "8d9pPLb7lS2w",
        "colab_type": "code",
        "colab": {
          "base_uri": "https://localhost:8080/",
          "height": 302
        },
        "outputId": "a1441111-7d95-463f-fca4-d289d2ea2752"
      },
      "source": [
        "fig, ax=plt.subplots()\n",
        "ax.plot(10*np.random.randn(100),10*np.random.randn(100),'o')\n",
        "ax.set_title('숫자 분포도 보기')\n",
        "plt.show()"
      ],
      "execution_count": 29,
      "outputs": [
        {
          "output_type": "display_data",
          "data": {
            "image/png": "[encoded data removed]",
            "text/plain": [
              "<Figure size 1008x288 with 1 Axes>"
            ]
          },
          "metadata": {
            "tags": [],
            "needs_background": "light"
          }
        }
      ]
    },
    {
      "cell_type": "code",
      "metadata": {
        "id": "r1ymZzCglnFS",
        "colab_type": "code",
        "colab": {}
      },
      "source": [
        ""
      ],
      "execution_count": null,
      "outputs": []
    }
  ]
}