{
  "nbformat": 4,
  "nbformat_minor": 0,
  "metadata": {
    "colab": {
      "name": "6)설문조사 응답 분석2(0811).ipynb",
      "provenance": [],
      "collapsed_sections": [],
      "authorship_tag": "ABX9TyMJtt6x8FwGIqJU2wqKN9Q4",
      "include_colab_link": true
    },
    "kernelspec": {
      "name": "python3",
      "display_name": "Python 3"
    }
  },
  "cells": [
    {
      "cell_type": "markdown",
      "metadata": {
        "id": "view-in-github",
        "colab_type": "text"
      },
      "source": [
        "<a href=\"https://colab.research.google.com/github/RudinP/SOLUX_Summer_data_study/blob/master/3%EC%A3%BC%EC%B0%A8/6)%EC%84%A4%EB%AC%B8%EC%A1%B0%EC%82%AC_%EC%9D%91%EB%8B%B5_%EB%B6%84%EC%84%9D2(0811).ipynb\" target=\"_parent\"><img src=\"https://colab.research.google.com/assets/colab-badge.svg\" alt=\"Open In Colab\"/></a>"
      ]
    },
    {
      "cell_type": "code",
      "metadata": {
        "id": "S-YbhHQIUjQl",
        "colab_type": "code",
        "colab": {}
      },
      "source": [
        "#앞의 노트에 이어서 적겠다, 따라서 실행은 하지 않고 노트필기만 하는 걸로 이해하면 된다."
      ],
      "execution_count": null,
      "outputs": []
    },
    {
      "cell_type": "code",
      "metadata": {
        "id": "o33krxQnU1Y2",
        "colab_type": "code",
        "colab": {}
      },
      "source": [
        "#현재 하고 있는 일\n",
        "sns.countplot(y=mcq['CurrentJbTitleSelect'])"
      ],
      "execution_count": null,
      "outputs": []
    },
    {
      "cell_type": "code",
      "metadata": {
        "id": "FXxngNJyU78N",
        "colab_type": "code",
        "colab": {}
      },
      "source": [
        "#현재 하고 있는 일에 대한 전체 응답수\n",
        "mcq[mcq['CurrentJobTitleSelect'].notnull()]['CurrentJobTitleSelect'].shape"
      ],
      "execution_count": null,
      "outputs": []
    },
    {
      "cell_type": "code",
      "metadata": {
        "id": "CK2VWO47VLLd",
        "colab_type": "code",
        "colab": {}
      },
      "source": [
        "#현재 하고 있는 일에 대한 응답을 해준 사람 중 python과 r을 사용하는 사람\n",
        "#응답자들이 실제 업무에서 어떤 언어를 주로 사용하는지 볼 수 있다.\n",
        "data=mcq[(mcq['CurrentJobTitleSelect'].notnull())&(\n",
        "    (mcq['LanguageRecommendationSelect']=='Python')|\n",
        "    (mcq['LanguageRecommendationSelect']=='R')\n",
        ")]\n",
        "print(data.shape)\n",
        "plt.figure(figsize=(8,10))\n",
        "sns.countplot(y='CurrentJobTitleSelect',\n",
        "              hue='LanguageRecommendationSelect',\n",
        "              data=data)"
      ],
      "execution_count": null,
      "outputs": []
    },
    {
      "cell_type": "code",
      "metadata": {
        "id": "2PSsscF9Vw0t",
        "colab_type": "code",
        "colab": {}
      },
      "source": [
        "#데이터사이언스툴\n",
        "mcq_ml_tool_count=pd.DataFrame(\n",
        "    mcq['MLToolNextYearSelect'].value_counts())\n",
        "    mcq_ml_tool_percent=pd.DataFrame(\n",
        "        mcq['MLToolNextYearSelect'].value_counts(normalize=True))#Normalize를 통해 퍼센트 확인하는 것 같다\n",
        "    mcq_ml_tool_df=mcq_ml_tool_count.merge(\n",
        "        mcq_ml_tool_percent,\n",
        "        left_index=True,\n",
        "        right_index=True ).head(20)\n",
        "mcq_ml_tool_df.columns=['음답수','비율']\n",
        "mcq_ml_tool_df\n",
        "\n"
      ],
      "execution_count": null,
      "outputs": []
    },
    {
      "cell_type": "code",
      "metadata": {
        "id": "Ism-EA3iWo5F",
        "colab_type": "code",
        "colab": {}
      },
      "source": [
        "data=mcq['MLToolNextYearSelect'].value_counts().head(20)\n",
        "sns.barplot(y=data.index,x=data)"
      ],
      "execution_count": null,
      "outputs": []
    },
    {
      "cell_type": "code",
      "metadata": {
        "id": "YOXlGiocWzTs",
        "colab_type": "code",
        "colab": {}
      },
      "source": [
        "#데이터사이언스 방법\n",
        "data=mcq['MLMethodNextYearSelect'].value_counts().head(15)\n",
        "sns.barplot(y=data.index,x=data)"
      ],
      "execution_count": null,
      "outputs": []
    },
    {
      "cell_type": "code",
      "metadata": {
        "id": "vnwdguWKXAns",
        "colab_type": "code",
        "colab": {}
      },
      "source": [
        "#어디에서 데이터 사이언스를 배워야 할까\n",
        "mcq['LearningPlatformSelect']=mcq['LearningPlatformSelect'].astype('str')\n",
        "s=mcq.apply(\n",
        "    lambda x:pd.Series(x['LearningPlatformSelect']),\n",
        "    axis=1).stack().reset_index(level=1,drop=True)\n",
        "s.name='platform'"
      ],
      "execution_count": null,
      "outputs": []
    },
    {
      "cell_type": "code",
      "metadata": {
        "id": "ukFt9mg-XZ2N",
        "colab_type": "code",
        "colab": {}
      },
      "source": [
        "plt.figure(figsize=(6,8))\n",
        "data=s[s!='nan'].value_counts().head(15)\n",
        "sns.barplot(y=data.index,x=data)"
      ],
      "execution_count": null,
      "outputs": []
    },
    {
      "cell_type": "code",
      "metadata": {
        "id": "o2YKdQBwXiXF",
        "colab_type": "code",
        "colab": {}
      },
      "source": [
        "#설문내용과 누구에게 물어봤는지를 찾아봄\n",
        "qc=question.loc[question['Column'].str.contains('LearningCategory')]\n",
        "print(qc.shape)\n",
        "qc"
      ],
      "execution_count": null,
      "outputs": []
    },
    {
      "cell_type": "code",
      "metadata": {
        "id": "dfRS_neHXzvd",
        "colab_type": "code",
        "colab": {}
      },
      "source": [
        "use_features=[x for x in mcq.columns if x.find('LearningPlatformUsefulness') !=-1]"
      ],
      "execution_count": null,
      "outputs": []
    },
    {
      "cell_type": "code",
      "metadata": {
        "id": "WUCPNcofYBek",
        "colab_type": "code",
        "colab": {}
      },
      "source": [
        "#학습플랫폼과 유용함에 대한 연관성을 살펴본다.\n",
        "fdf={}\n",
        "for feature in use_features:\n",
        "  a=mcq[feature].value_counts()\n",
        "  a=a/a.sum()\n",
        "  fdf[feature[len('LearningPlatformUsefulness'):]]=a\n",
        "\n",
        "  fdf=pd.DataFrame(fdf).transpose().sort_values(\n",
        "      'Very useful',ascending=False\n",
        "  )\n",
        "  #학습플랫폼들이 얼마나 유용한지에 대한 상관관계를 그려본다\n",
        "  plt.figure(figsize=(10,10))\n",
        "  sns.heatmap(\n",
        "      fdf.sort_values(\n",
        "          \"Very useful\",ascending=False),annot=True\n",
        "      )"
      ],
      "execution_count": null,
      "outputs": []
    },
    {
      "cell_type": "code",
      "metadata": {
        "id": "KsCoy6Y6YnMm",
        "colab_type": "code",
        "colab": {}
      },
      "source": [
        "#유용함의 정도를 각 플랫폼별로 그룹화 해서 본다.\n",
        "fdf.plot(kind='bar',figsize=(20,8),\n",
        "         title=\"Usefullness of Learning Platforms\")"
      ],
      "execution_count": null,
      "outputs": []
    },
    {
      "cell_type": "code",
      "metadata": {
        "id": "fnZS4-csYz6d",
        "colab_type": "code",
        "colab": {}
      },
      "source": [
        "cat_features=[x for x in mcq.columns if x.find(\n",
        "    'LearningCategory')!=-1]\n",
        "cat_features"
      ],
      "execution_count": null,
      "outputs": []
    },
    {
      "cell_type": "code",
      "metadata": {
        "id": "E1ASlLgSZBA0",
        "colab_type": "code",
        "colab": {}
      },
      "source": [
        "cdf={}\n",
        "for feature in cat_features:\n",
        "  cdf[feature[len('LearningCategory'):]]=mcq[feature].mean()\n",
        "  #파이차트를 그리기 위해 평균 값을 구해와서 담아준다.\n",
        "  cdf=pd.Series(cdf)\n",
        "  cdf\n",
        "  "
      ],
      "execution_count": null,
      "outputs": []
    },
    {
      "cell_type": "code",
      "metadata": {
        "id": "qSm9GftiZOmE",
        "colab_type": "code",
        "colab": {}
      },
      "source": [
        "#학습 플랫폼 별 도움이 되는 정도를 그려본다.\n",
        "plt.pie(cdf,labels=cdf.index,\n",
        "        autopct='%1.1f%%',shadow=True,startangle=140)\n",
        "plt.axis('equal')\n",
        "plt.title(\"Contribution of each Platform to Learning\")\n",
        "plt.show()"
      ],
      "execution_count": null,
      "outputs": []
    },
    {
      "cell_type": "code",
      "metadata": {
        "id": "a2r3EstAZhU8",
        "colab_type": "code",
        "colab": {}
      },
      "source": [
        "#데이터과학을 위해 높은 사양의 컴퓨터가 필요한가?\n",
        "#설문내용과 누구에게 물어봤는지를 찾아봄\n",
        "qc=question.loc[question['Column'].str.contains('HardwarePersonalProjectsSelect')]\n",
        "print(qc.shape)\n",
        "qc"
      ],
      "execution_count": null,
      "outputs": []
    },
    {
      "cell_type": "code",
      "metadata": {
        "id": "EtRLJePgZxws",
        "colab_type": "code",
        "colab": {}
      },
      "source": [
        "mcq[mcq['HardwarePersonalProjectsSelect'].notnull()]['HardwarePersonalProjectsSelect'].shape"
      ],
      "execution_count": null,
      "outputs": []
    },
    {
      "cell_type": "code",
      "metadata": {
        "id": "rAVOmr0lZ_zU",
        "colab_type": "code",
        "colab": {}
      },
      "source": [
        "mcq['HardwarePersonalProjectsSelect']=mcq['HardwarePersonalProjectsSelect'].astype('str').apply(lambda x:x.split(','))\n",
        "s=mcq.apply(lambda x:\n",
        "            pd.Series(x['HardwarePersonalProjectsSelect']),axis=1).stack().reset_index(level=1,drop=True)\n",
        "            s.name='hardware'"
      ],
      "execution_count": null,
      "outputs": []
    },
    {
      "cell_type": "code",
      "metadata": {
        "id": "2r_arEQQagwM",
        "colab_type": "code",
        "colab": {}
      },
      "source": [
        "s=s[s!='nan']\n",
        "pd.DataFrame(s.value_counts())"
      ],
      "execution_count": null,
      "outputs": []
    },
    {
      "cell_type": "code",
      "metadata": {
        "id": "6azdXlTwalfs",
        "colab_type": "code",
        "colab": {}
      },
      "source": [
        "#데이터 사이언스 공부에 얼마나 많은 시간을 사용하는지?\n",
        "plt.figure(figsize=(6,8))\n",
        "sns.countplot(y='TimeSpentStudying',\n",
        "              data=mcq,\n",
        "              hue='EmploymentStatus').legend(loc='center left',bbox_to_anchor=(1,0.5))"
      ],
      "execution_count": null,
      "outputs": []
    },
    {
      "cell_type": "code",
      "metadata": {
        "id": "_ksNs0MCa4KU",
        "colab_type": "code",
        "colab": {}
      },
      "source": [
        "figure,(ax1,ax2)=plt.subplots(ncols=2)\n",
        "\n",
        "figure.set_size_inches(12,5)\n",
        "sns.countplot(x='TimeSpentStudying',\n",
        "              data=full_time,\n",
        "              hue='EmploymentStatus',ax=ax1).legend(loc='center right',bbox_to_anchor=(1,0.5))\n",
        "\n",
        "sns.countplot(x='TimeSpentStudying',data=looking_for_job,\n",
        "              hue='EmploymentStatus',ax=ax2).legend(loc='center right',\n",
        "                                                    bbox_to_anchor=(1,0.5))"
      ],
      "execution_count": null,
      "outputs": []
    },
    {
      "cell_type": "code",
      "metadata": {
        "id": "7fE-bjttbZLr",
        "colab_type": "code",
        "colab": {}
      },
      "source": [
        ""
      ],
      "execution_count": null,
      "outputs": []
    }
  ]
}