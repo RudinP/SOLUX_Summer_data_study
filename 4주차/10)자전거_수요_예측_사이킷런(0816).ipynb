{
  "nbformat": 4,
  "nbformat_minor": 0,
  "metadata": {
    "colab": {
      "name": "10)자전거 수요 예측 사이킷런(0816).ipynb",
      "provenance": [],
      "collapsed_sections": [],
      "authorship_tag": "ABX9TyNm5cM+GYADHV28NHqr8wN6",
      "include_colab_link": true
    },
    "kernelspec": {
      "name": "python3",
      "display_name": "Python 3"
    }
  },
  "cells": [
    {
      "cell_type": "markdown",
      "metadata": {
        "id": "view-in-github",
        "colab_type": "text"
      },
      "source": [
        "<a href=\"https://colab.research.google.com/github/RudinP/SOLUX_Summer_data_study/blob/master/4%EC%A3%BC%EC%B0%A8/10)%EC%9E%90%EC%A0%84%EA%B1%B0_%EC%88%98%EC%9A%94_%EC%98%88%EC%B8%A1_%EC%82%AC%EC%9D%B4%ED%82%B7%EB%9F%B0(0816).ipynb\" target=\"_parent\"><img src=\"https://colab.research.google.com/assets/colab-badge.svg\" alt=\"Open In Colab\"/></a>"
      ]
    },
    {
      "cell_type": "code",
      "metadata": {
        "id": "rui1u8bMxtUz",
        "colab_type": "code",
        "colab": {}
      },
      "source": [
        "clf=RandomForestClassifier()\n",
        "clf.fit(x_train,y_train)\n",
        "y_pred=clf.predict(x_test)\n",
        "clf.score(x_test,y_test)"
      ],
      "execution_count": null,
      "outputs": []
    },
    {
      "cell_type": "code",
      "metadata": {
        "id": "6de5uajpySrU",
        "colab_type": "code",
        "colab": {}
      },
      "source": [
        "#예시\n",
        "x_traing=train[feature_names]\n",
        "print(x_train.shape)\n",
        "x_train.head()"
      ],
      "execution_count": null,
      "outputs": []
    },
    {
      "cell_type": "code",
      "metadata": {
        "id": "cFmkvsNNyZKi",
        "colab_type": "code",
        "colab": {}
      },
      "source": [
        "#레이블 데이터를 벡터 데이터로 변환. 행렬과 벡터를 넣어 모델을 만들고 예측함. 이를 통해 카운트를 예측하고 평가\n",
        "label_name=\"count\"\n",
        "y_train=train[label_name]\n",
        "print(y_train.shape)\n",
        "y_train.head()"
      ],
      "execution_count": null,
      "outputs": []
    },
    {
      "cell_type": "code",
      "metadata": {
        "id": "wRq_BXJvysWr",
        "colab_type": "code",
        "colab": {}
      },
      "source": [
        "#랜덤포레스트를 알려면 Decision Tree를 알아야함.\n",
        "#가지에 따라 최적화된 값을 찾는 것. 속도가 빠른것이 장점. 시각화해서 설명하기 좋음\n",
        "#evaluation시 accuracy 평가. 과소적합, 과대적합은 피하는게 좋음.\n",
        "#과소적합은 너무 간단한 모델이 선택되어 데이터의 특징과 다양성을 잡아내지 못함.\n",
        "#과대적합은 너무 복잡한 모델을 만들어 일반화 하기 어려움(feature가 너무 많은 경우)\n",
        "\n"
      ],
      "execution_count": null,
      "outputs": []
    },
    {
      "cell_type": "code",
      "metadata": {
        "id": "wLV2EmGHzaKb",
        "colab_type": "code",
        "colab": {}
      },
      "source": [
        "#RSLE 라는 공식이 있음. 0에 가까운 값이 나올수록 정밀도가 높음. 오차를 제곱해서 평균한값의 제곱근.\n",
        "def rmsle(y,y_,convertExp=True):\n",
        "  if convertExp:\n",
        "    y=np.exp(y),\n",
        "    y=np.exp(_y)\n",
        "  log1=np.nan_to_num(np.array([np.log(v+1)for v in y]))\n",
        "  log2=np.nan_to_num(np.array([np.log(v+1)for v in y]))\n",
        "  calc=(log1-log2)**2\n",
        "  return np.sqrt(np.mean(calc))"
      ],
      "execution_count": null,
      "outputs": []
    },
    {
      "cell_type": "code",
      "metadata": {
        "id": "TrVa4chGz310",
        "colab_type": "code",
        "colab": {}
      },
      "source": [
        "from sklearn.metrics import make_scorer\n",
        "\n",
        "def rmsle(predicted_values,actual_values):\n",
        "  #넘파이로 배열 형태로 바꿔줌\n",
        "  predicted_values=np.array(predicted_values)\n",
        "  actual_values=np.array(actual_values)\n",
        "  #예측값과 실제 값에 1을 더하고 로그를 씌워준다.\n",
        "  log_predict=np.log(predicted_values+1)\n",
        "  log_actual=np.log(actual_values+1)\n",
        "  #위에서 계산한 예측갑셍서 실제값을 빼주고 제곱을 해준다.\n",
        "  difference=log_predict-log_actual\n",
        "  #difference=(log_predict-log_actual)**2\n",
        "  difference=np.square(difference)\n",
        "  #평균을 낸다.\n",
        "  mean_difference=difference.mean()\n",
        "  #다시 루트를 씌운다.\n",
        "  score=np.sqrt(mean_difference)\n",
        "  return score"
      ],
      "execution_count": null,
      "outputs": []
    },
    {
      "cell_type": "code",
      "metadata": {
        "id": "LrmnHoRC0j0r",
        "colab_type": "code",
        "colab": {}
      },
      "source": [
        "#Cross Validation 교차 검증\n",
        "#KFold교차검증\n",
        "#데이터를 훈련세트와 테스트세트로 나누는 N개의 분할마다 정확도를 측정하여 평균 값을 낸게 정확도가 됨"
      ],
      "execution_count": null,
      "outputs": []
    }
  ]
}