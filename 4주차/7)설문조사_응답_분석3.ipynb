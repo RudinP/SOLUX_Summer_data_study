{
  "nbformat": 4,
  "nbformat_minor": 0,
  "metadata": {
    "colab": {
      "name": "설문조사 응답 분석3.ipynb",
      "provenance": [],
      "collapsed_sections": [],
      "authorship_tag": "ABX9TyOAZ0vqsIbXTF8s1RKJMsiV",
      "include_colab_link": true
    },
    "kernelspec": {
      "name": "python3",
      "display_name": "Python 3"
    }
  },
  "cells": [
    {
      "cell_type": "markdown",
      "metadata": {
        "id": "view-in-github",
        "colab_type": "text"
      },
      "source": [
        "<a href=\"https://colab.research.google.com/github/RudinP/SOLUX_Summer_data_study/blob/master/4%EC%A3%BC%EC%B0%A8/%EC%84%A4%EB%AC%B8%EC%A1%B0%EC%82%AC_%EC%9D%91%EB%8B%B5_%EB%B6%84%EC%84%9D3.ipynb\" target=\"_parent\"><img src=\"https://colab.research.google.com/assets/colab-badge.svg\" alt=\"Open In Colab\"/></a>"
      ]
    },
    {
      "cell_type": "code",
      "metadata": {
        "id": "XvNvAqUBvftB",
        "colab_type": "code",
        "colab": {}
      },
      "source": [
        "#matplotlib의 subplots()사용법, seaborn으로 count,box,distplot 그려보기\n",
        "#mcq 파일이 너무 커서... 코드를 따라 치기만 했다."
      ],
      "execution_count": null,
      "outputs": []
    },
    {
      "cell_type": "code",
      "metadata": {
        "id": "mpSeI5vtw7CL",
        "colab_type": "code",
        "colab": {}
      },
      "source": [
        "#블로그,팟캐스트,수업,기타 등등 추천할 만한 것\n",
        "mcq['BlogsPodcastsNewslettersSelect'] = mcq[\n",
        "    'BlogsPodcastsNewslettersSelect'\n",
        "].astype('str').apply(lambda x: x.split(','))#여러 항목이 있어 split, 하나의 row로\n",
        "mcq['BlogsPodcastsNewslettersSelect'].head()"
      ],
      "execution_count": null,
      "outputs": []
    },
    {
      "cell_type": "code",
      "metadata": {
        "id": "L7w_HBzHw8VS",
        "colab_type": "code",
        "colab": {}
      },
      "source": [
        "s = mcq.apply(lambda x: pd.Series(x['BlogsPodcastsNewslettersSelect']),\n",
        "              axis=1).stack().reset_index(level=1, drop=True)\n",
        "s.name = 'platforms'\n",
        "s.head()\n"
      ],
      "execution_count": null,
      "outputs": []
    },
    {
      "cell_type": "code",
      "metadata": {
        "id": "rGWQ_Kb-w-eC",
        "colab_type": "code",
        "colab": {}
      },
      "source": [
        "s = s[s != 'nan'].value_counts().head(20)#상위 20개의 값만 찍어보도록 함\n",
        "\n",
        "plt.figure(figsize=(6,8))\n",
        "plt.title(\"Most Popular Blogs and Podcasts\")\n",
        "sns.barplot(y=s.index, x=s)"
      ],
      "execution_count": null,
      "outputs": []
    },
    {
      "cell_type": "code",
      "metadata": {
        "id": "xZdAX1d8xCJa",
        "colab_type": "code",
        "colab": {}
      },
      "source": [
        "mcq['CoursePlatformSelect'] = mcq[\n",
        "    'CoursePlatformSelect'].astype(\n",
        "    'str').apply(lambda x: x.split(','))\n",
        "mcq['CoursePlatformSelect'].head()"
      ],
      "execution_count": null,
      "outputs": []
    },
    {
      "cell_type": "code",
      "metadata": {
        "id": "w956ymwCxInK",
        "colab_type": "code",
        "colab": {}
      },
      "source": [
        "t = mcq.apply(lambda x: pd.Series(x['CoursePlatformSelect']),\n",
        "              axis=1).stack().reset_index(level=1, drop=True)\n",
        "t.name = 'courses'\n",
        "t.head(20)"
      ],
      "execution_count": null,
      "outputs": []
    },
    {
      "cell_type": "code",
      "metadata": {
        "id": "YI5QUjj-xNDS",
        "colab_type": "code",
        "colab": {}
      },
      "source": [
        "t = t[t != 'nan'].value_counts()"
      ],
      "execution_count": null,
      "outputs": []
    },
    {
      "cell_type": "code",
      "metadata": {
        "id": "jE7LErJDxNnT",
        "colab_type": "code",
        "colab": {}
      },
      "source": [
        "plt.title(\"Most Popular Course Platforms\")\n",
        "sns.barplot(y=t.index, x=t)#그래프 그리기 "
      ],
      "execution_count": null,
      "outputs": []
    },
    {
      "cell_type": "code",
      "metadata": {
        "id": "JPiFRUoexPqa",
        "colab_type": "code",
        "colab": {}
      },
      "source": [
        "#데이터 사이언스 직무에서 가장 중요하다고 생각되는 스킬\n",
        "job_features = [\n",
        "    x for x in mcq.columns if x.find(\n",
        "        'JobSkillImportance') != -1 \n",
        "    and x.find('JobSkillImportanceOther') == -1]#jobskillimportance가 들어간것을 찾음\n",
        "\n",
        "job_features"
      ],
      "execution_count": null,
      "outputs": []
    },
    {
      "cell_type": "code",
      "metadata": {
        "id": "8kxlea_kxYO6",
        "colab_type": "code",
        "colab": {}
      },
      "source": [
        "jdf = {}\n",
        "for feature in job_features:\n",
        "    a = mcq[feature].value_counts()\n",
        "    a = a/a.sum()\n",
        "    jdf[feature[len('JobSkillImportance'):]] = a\n",
        "\n",
        "jdf"
      ],
      "execution_count": null,
      "outputs": []
    },
    {
      "cell_type": "code",
      "metadata": {
        "id": "SCnKsPJixZWC",
        "colab_type": "code",
        "colab": {}
      },
      "source": [
        "jdf = pd.DataFrame(jdf).transpose()#transpose를 하면 x축과 y축이 서로 바뀌게 된다\n",
        "jdf"
      ],
      "execution_count": null,
      "outputs": []
    },
    {
      "cell_type": "code",
      "metadata": {
        "id": "lKycoPZ2xax6",
        "colab_type": "code",
        "colab": {}
      },
      "source": [
        "plt.figure(figsize=(10,6))\n",
        "sns.heatmap(jdf.sort_values(\"Necessary\", \n",
        "                            ascending=False), annot=True)#heatmap으로 그래프 그리기(degree에 따라 그려짐)"
      ],
      "execution_count": null,
      "outputs": []
    },
    {
      "cell_type": "code",
      "metadata": {
        "id": "bKF5cpZQxcO6",
        "colab_type": "code",
        "colab": {}
      },
      "source": [
        "jdf.plot(kind='bar', figsize=(12,6), \n",
        "         title=\"Skill Importance in Data Science Jobs\")\n",
        "plt.xticks(rotation=60, ha='right')#barplot을 matplotlib으로 그림.막대그래프 모양"
      ],
      "execution_count": null,
      "outputs": []
    },
    {
      "cell_type": "code",
      "metadata": {
        "id": "chc4Qj9pxeMS",
        "colab_type": "code",
        "colab": {}
      },
      "source": [
        "#데이터과학자의 평균 급여\n",
        "\n",
        "mcq[mcq['CompensationAmount'].notnull()].shape"
      ],
      "execution_count": null,
      "outputs": []
    },
    {
      "cell_type": "code",
      "metadata": {
        "id": "XMkDMlXExh8r",
        "colab_type": "code",
        "colab": {}
      },
      "source": [
        "mcq['CompensationAmount'] = mcq[\n",
        "    'CompensationAmount'].str.replace(',','')\n",
        "mcq['CompensationAmount'] = mcq[\n",
        "    'CompensationAmount'].str.replace('-','')#이러한 값들이 있으면 계산에 오류가 나기 때문에, str로 없애줌.\n",
        "\n",
        "# 환율계산을 위한 정보 가져오기\n",
        "rates = pd.read_csv('data/conversionRates.csv')#환율 정보 csv\n",
        "rates.drop('Unnamed: 0',axis=1,inplace=True)\n",
        "\n",
        "salary = mcq[\n",
        "    ['CompensationAmount','CompensationCurrency',\n",
        "     'GenderSelect',\n",
        "     'Country',\n",
        "     'CurrentJobTitleSelect']].dropna()\n",
        "salary = salary.merge(rates,left_on='CompensationCurrency',\n",
        "                      right_on='originCountry', how='left')\n",
        "salary['Salary'] = pd.to_numeric(\n",
        "    salary['CompensationAmount']) * salary['exchangeRate']\n",
        "salary.head()"
      ],
      "execution_count": null,
      "outputs": []
    },
    {
      "cell_type": "code",
      "metadata": {
        "id": "LWIGo1iDxkZy",
        "colab_type": "code",
        "colab": {}
      },
      "source": [
        "print('Maximum Salary is USD $',\n",
        "      salary['Salary'].dropna().astype(int).max())\n",
        "print('Minimum Salary is USD $',\n",
        "      salary['Salary'].dropna().astype(int).min())\n",
        "print('Median Salary is USD $',\n",
        "      salary['Salary'].dropna().astype(int).median())#차례대로 na값은 드롭하고 최대,최소,평균 급여를 보여줌."
      ],
      "execution_count": null,
      "outputs": []
    },
    {
      "cell_type": "code",
      "metadata": {
        "id": "xqGUim9mxn9q",
        "colab_type": "code",
        "colab": {}
      },
      "source": [
        "plt.subplots(figsize=(15,8))\n",
        "salary=salary[salary['Salary']<500000]\n",
        "sns.distplot(salary['Salary'])\n",
        "plt.axvline(salary['Salary'].median(), linestyle='dashed')#원하는 값에 선을 그어줄 수 있음.\n",
        "plt.title('Salary Distribution',size=15)"
      ],
      "execution_count": null,
      "outputs": []
    },
    {
      "cell_type": "code",
      "metadata": {
        "id": "ckxJ9Lcixqvi",
        "colab_type": "code",
        "colab": {}
      },
      "source": [
        "plt.subplots(figsize=(8,12))#그래프가 찌그러져 보이면 숫자 조정하면 됨\n",
        "\n",
        "sal_coun = salary.groupby(\n",
        "    'Country')['Salary'].median().sort_values(\n",
        "    ascending=False)[:30].to_frame()\n",
        "\n",
        "sns.barplot('Salary', \n",
        "            sal_coun.index,\n",
        "            data = sal_coun,\n",
        "            palette='RdYlGn')\n",
        "\n",
        "plt.axvline(salary['Salary'].median(), linestyle='dashed')\n",
        "plt.title('Highest Salary Paying Countries')"
      ],
      "execution_count": null,
      "outputs": []
    },
    {
      "cell_type": "code",
      "metadata": {
        "id": "u0HpSuwbxsIa",
        "colab_type": "code",
        "colab": {}
      },
      "source": [
        "plt.subplots(figsize=(8,4))\n",
        "sns.boxplot(y='GenderSelect',x='Salary', data=salary)#박스모양 그래프를 그림"
      ],
      "execution_count": null,
      "outputs": []
    },
    {
      "cell_type": "code",
      "metadata": {
        "id": "xRT1cZfextri",
        "colab_type": "code",
        "colab": {}
      },
      "source": [
        "salary_korea = salary.loc[(salary['Country']=='South Korea')]#한국의 데이터만 따로 구해 그래프화\n",
        "plt.subplots(figsize=(8,4))\n",
        "sns.boxplot(y='GenderSelect',x='Salary',data=salary_korea)"
      ],
      "execution_count": null,
      "outputs": []
    },
    {
      "cell_type": "code",
      "metadata": {
        "id": "5hd8rU6uxwT6",
        "colab_type": "code",
        "colab": {}
      },
      "source": [
        "salary_korea.shape"
      ],
      "execution_count": null,
      "outputs": []
    },
    {
      "cell_type": "code",
      "metadata": {
        "id": "RTCoG0p2xxfi",
        "colab_type": "code",
        "colab": {}
      },
      "source": [
        "salary_korea_male = salary_korea[\n",
        "    salary_korea['GenderSelect']== 'Male']\n",
        "salary_korea_male['Salary'].describe()"
      ],
      "execution_count": null,
      "outputs": []
    },
    {
      "cell_type": "code",
      "metadata": {
        "id": "BG5pFkZdxyq-",
        "colab_type": "code",
        "colab": {}
      },
      "source": [
        "salary_korea_male"
      ],
      "execution_count": null,
      "outputs": []
    },
    {
      "cell_type": "code",
      "metadata": {
        "id": "ZbYSndjjx0AS",
        "colab_type": "code",
        "colab": {}
      },
      "source": [
        "#개인 프로젝트나 학습용 데이터를 얻는 곳\n",
        "mcq['PublicDatasetsSelect'] = mcq[\n",
        "    'PublicDatasetsSelect'].astype('str').apply(\n",
        "    lambda x: x.split(',')\n",
        "    )"
      ],
      "execution_count": null,
      "outputs": []
    },
    {
      "cell_type": "code",
      "metadata": {
        "id": "kIEUw-Mwx3ei",
        "colab_type": "code",
        "colab": {}
      },
      "source": [
        "q = mcq.apply(\n",
        "    lambda x: pd.Series(x['PublicDatasetsSelect']),\n",
        "    axis=1).stack().reset_index(level=1, drop=True)\n",
        "\n",
        "q.name = 'courses'"
      ],
      "execution_count": null,
      "outputs": []
    },
    {
      "cell_type": "code",
      "metadata": {
        "id": "m-0STTRgx42L",
        "colab_type": "code",
        "colab": {}
      },
      "source": [
        "q = q[q != 'nan'].value_counts()"
      ],
      "execution_count": null,
      "outputs": []
    },
    {
      "cell_type": "code",
      "metadata": {
        "id": "JlhOlcurx5yy",
        "colab_type": "code",
        "colab": {}
      },
      "source": [
        "pd.DataFrame(q)"
      ],
      "execution_count": null,
      "outputs": []
    },
    {
      "cell_type": "code",
      "metadata": {
        "id": "RAjFlJyqx65L",
        "colab_type": "code",
        "colab": {}
      },
      "source": [
        "plt.title(\"Most Popular Dataset Platforms\")\n",
        "sns.barplot(y=q.index, x=q)"
      ],
      "execution_count": null,
      "outputs": []
    },
    {
      "cell_type": "code",
      "metadata": {
        "id": "HF-2WVExx79b",
        "colab_type": "code",
        "colab": {}
      },
      "source": [
        "# 주관식 응답을 읽어온다.\n",
        "ff = pd.read_csv('data/freeformResponses.csv', \n",
        "                 encoding=\"ISO-8859-1\", low_memory=False)\n",
        "ff.shape"
      ],
      "execution_count": null,
      "outputs": []
    },
    {
      "cell_type": "code",
      "metadata": {
        "id": "p-q3cM8kx9ay",
        "colab_type": "code",
        "colab": {}
      },
      "source": [
        "# 설문내용과 누구에게 물어봤는지를 찾아봄\n",
        "qc = question.loc[question[\n",
        "    'Column'].str.contains('PersonalProjectsChallengeFreeForm')]\n",
        "print(qc.shape)\n",
        "qc.Question.values[0]"
      ],
      "execution_count": null,
      "outputs": []
    },
    {
      "cell_type": "code",
      "metadata": {
        "id": "dodm6RbSx-jy",
        "colab_type": "code",
        "colab": {}
      },
      "source": [
        "ppcff = ff[\n",
        "    'PersonalProjectsChallengeFreeForm'].value_counts().head(15)\n",
        "ppcff.name = '응답 수'\n",
        "pd.DataFrame(ppcff)"
      ],
      "execution_count": null,
      "outputs": []
    },
    {
      "cell_type": "code",
      "metadata": {
        "id": "31l0D6AUx_27",
        "colab_type": "code",
        "colab": {}
      },
      "source": [
        "#데이터 사이언스 업무에서 가장 많은 시간을 필요로 하는 일은?\n",
        "time_features = [\n",
        "    x for x in mcq.columns if x.find('Time') != -1][4:10]"
      ],
      "execution_count": null,
      "outputs": []
    },
    {
      "cell_type": "code",
      "metadata": {
        "id": "X6QL7h0JyKP7",
        "colab_type": "code",
        "colab": {}
      },
      "source": [
        "tdf = {}\n",
        "for feature in time_features:\n",
        "    tdf[feature[len('Time'):]] = mcq[feature].mean()\n",
        "\n",
        "tdf = pd.Series(tdf)\n",
        "print(tdf)\n",
        "print()\n",
        "\n",
        "plt.pie(tdf, labels=tdf.index, \n",
        "        autopct='%1.1f%%', shadow=True, startangle=140)\n",
        "plt.axis('equal')\n",
        "plt.title(\"Percentage of Time Spent on Each DS Job\")\n",
        "plt.show()"
      ],
      "execution_count": null,
      "outputs": []
    }
  ]
}
