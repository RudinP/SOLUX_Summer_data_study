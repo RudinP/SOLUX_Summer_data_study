{
  "nbformat": 4,
  "nbformat_minor": 0,
  "metadata": {
    "colab": {
      "name": "8)설문조사 응답 분석4.ipynb",
      "provenance": [],
      "collapsed_sections": [],
      "authorship_tag": "ABX9TyM7nhFJHU2vFFNX/1NnxavY",
      "include_colab_link": true
    },
    "kernelspec": {
      "name": "python3",
      "display_name": "Python 3"
    }
  },
  "cells": [
    {
      "cell_type": "markdown",
      "metadata": {
        "id": "view-in-github",
        "colab_type": "text"
      },
      "source": [
        "<a href=\"https://colab.research.google.com/github/RudinP/SOLUX_Summer_data_study/blob/master/4%EC%A3%BC%EC%B0%A8/8)%EC%84%A4%EB%AC%B8%EC%A1%B0%EC%82%AC_%EC%9D%91%EB%8B%B5_%EB%B6%84%EC%84%9D4.ipynb\" target=\"_parent\"><img src=\"https://colab.research.google.com/assets/colab-badge.svg\" alt=\"Open In Colab\"/></a>"
      ]
    },
    {
      "cell_type": "code",
      "metadata": {
        "id": "QjQSY7EmNMHf",
        "colab_type": "code",
        "colab": {}
      },
      "source": [
        "#데이터사이언스 직업을 찾는데 가장 고려해야 할 요소\n",
        "#설문 내용과 누구에게 물어봤는지\n",
        "#마찬가지로 저번에 이어서 실행은 하지 않고 코드를 따라 적음\n",
        "qc = question.loc[question[\n",
        "    'Column'].str.contains('JobFactor')]#JobFactor이라는 항목이 str에 들어간 항목 찾기\n",
        "print(qc.shape)\n",
        "qc.Question.values"
      ],
      "execution_count": null,
      "outputs": []
    },
    {
      "cell_type": "code",
      "metadata": {
        "id": "utrkd9-CN601",
        "colab_type": "code",
        "colab": {}
      },
      "source": [
        "job_factors = [\n",
        "    x for x in mcq.columns if x.find('JobFactor') != -1]"
      ],
      "execution_count": null,
      "outputs": []
    },
    {
      "cell_type": "code",
      "metadata": {
        "id": "125t4XqqN8os",
        "colab_type": "code",
        "colab": {}
      },
      "source": [
        "jfdf = {}\n",
        "for feature in job_factors:\n",
        "    a = mcq[feature].value_counts()\n",
        "    a = a/a.sum()\n",
        "    jfdf[feature[len('JobFactor'):]] = a\n",
        "\n",
        "jfdf = pd.DataFrame(jfdf).transpose()\n",
        "\n",
        "plt.figure(figsize=(6,10))\n",
        "plt.xticks(rotation=60, ha='right')\n",
        "sns.heatmap(jfdf.sort_values('Very Important', \n",
        "                             ascending=False), annot=True)"
      ],
      "execution_count": null,
      "outputs": []
    },
    {
      "cell_type": "code",
      "metadata": {
        "id": "0dr4AbNGOAeM",
        "colab_type": "code",
        "colab": {}
      },
      "source": [
        "jfdf.plot(kind='bar', figsize=(18,6), \n",
        "          title=\"Things to look for while considering Data Science Jobs\")\n",
        "plt.xticks(rotation=60, ha='right')#기본적인 막대그래프\n",
        "plt.show()"
      ],
      "execution_count": null,
      "outputs": []
    },
    {
      "cell_type": "code",
      "metadata": {
        "id": "OTAr_m4VOBjr",
        "colab_type": "code",
        "colab": {}
      },
      "source": [
        "#데이터 사이언티스트가 되기 위해 학위가 중요한가?\n",
        "sns.countplot(y='UniversityImportance', data=mcq)#countplot은 좌에서 우로 향하는 막대그래프이다."
      ],
      "execution_count": null,
      "outputs": []
    },
    {
      "cell_type": "code",
      "metadata": {
        "id": "SRCANEufOFq0",
        "colab_type": "code",
        "colab": {}
      },
      "source": [
        "import plotly.offline as py\n",
        "py.init_notebook_mode(connected=True)\n",
        "import plotly.figure_factory as fig_fact\n",
        "\n",
        "top_uni = mcq['UniversityImportance'].value_counts().head(5)\n",
        "top_uni_dist = []\n",
        "for uni in top_uni.index:\n",
        "    top_uni_dist.append(\n",
        "        mcq[(mcq['Age'].notnull()) & \\\n",
        "            (mcq['UniversityImportance'] == uni)]['Age'])#연령대 별로 분류하여 보기 위함\n",
        "\n",
        "group_labels = top_uni.index\n",
        "\n",
        "fig = fig_fact.create_distplot(\n",
        "    top_uni_dist, group_labels, show_hist=False)\n",
        "py.iplot(fig, filename='University Importance by Age')#iplot 이용. 최근 matplotlib보다 더 세련되었다는 평가를 받음.\n",
        "#곡선그래프 및 분포도(?)"
      ],
      "execution_count": null,
      "outputs": []
    },
    {
      "cell_type": "code",
      "metadata": {
        "id": "GRw7kr0ZOHuM",
        "colab_type": "code",
        "colab": {}
      },
      "source": [
        "#어디에서 부터 데이터사이언스를 시작해야 하나?\n",
        "mcq[mcq['FirstTrainingSelect'].notnull()].shape"
      ],
      "execution_count": null,
      "outputs": []
    },
    {
      "cell_type": "code",
      "metadata": {
        "id": "ZeR0lB-rOLkM",
        "colab_type": "code",
        "colab": {}
      },
      "source": [
        "sns.countplot(y='FirstTrainingSelect', data=mcq)"
      ],
      "execution_count": null,
      "outputs": []
    },
    {
      "cell_type": "code",
      "metadata": {
        "id": "om7EzECtONQG",
        "colab_type": "code",
        "colab": {}
      },
      "source": [
        "#데이터사이언티스트 이력서에서 가장 중요한것은?\n",
        "sns.countplot(y='ProveKnowledgeSelect', data=mcq)"
      ],
      "execution_count": null,
      "outputs": []
    },
    {
      "cell_type": "code",
      "metadata": {
        "id": "Je_Okv7VORg7",
        "colab_type": "code",
        "colab": {}
      },
      "source": [
        "#머신러닝 알고리즘을 사용하기 위해 수학이 필요한가?\n",
        "#설문내용과 누구에게 물어봤는지를 찾아봄\n",
        "qc = question.loc[question[\n",
        "    'Column'].str.contains('AlgorithmUnderstandingLevel')]\n",
        "qc"
      ],
      "execution_count": null,
      "outputs": []
    },
    {
      "cell_type": "code",
      "metadata": {
        "id": "oe6JHHAUOV7j",
        "colab_type": "code",
        "colab": {}
      },
      "source": [
        "mcq[mcq['AlgorithmUnderstandingLevel'].notnull()].shape#null값을 제외"
      ],
      "execution_count": null,
      "outputs": []
    },
    {
      "cell_type": "code",
      "metadata": {
        "id": "6RSIBCTPOXBz",
        "colab_type": "code",
        "colab": {}
      },
      "source": [
        "sns.countplot(y='AlgorithmUnderstandingLevel', data=mcq)"
      ],
      "execution_count": null,
      "outputs": []
    },
    {
      "cell_type": "code",
      "metadata": {
        "id": "A6Ae56sGOYNs",
        "colab_type": "code",
        "colab": {}
      },
      "source": [
        "#어디에서 일을 찾아야 하나?\n",
        "# 설문내용과 누구에게 물어봤는지를 찾아봄\n",
        "question.loc[question[\n",
        "    'Column'].str.contains(\n",
        "    'JobSearchResource|EmployerSearchMethod')]"
      ],
      "execution_count": null,
      "outputs": []
    },
    {
      "cell_type": "code",
      "metadata": {
        "id": "9NspnMHdObN7",
        "colab_type": "code",
        "colab": {}
      },
      "source": [
        "plt.title(\"Best Places to look for a Data Science Job\")\n",
        "sns.countplot(y='JobSearchResource', data=mcq)"
      ],
      "execution_count": null,
      "outputs": []
    },
    {
      "cell_type": "code",
      "metadata": {
        "id": "QCFC9BNsOdGT",
        "colab_type": "code",
        "colab": {}
      },
      "source": [
        "plt.title(\"Top Places to get Data Science Jobs\")\n",
        "sns.countplot(y='EmployerSearchMethod', data=mcq)"
      ],
      "execution_count": null,
      "outputs": []
    },
    {
      "cell_type": "code",
      "metadata": {
        "id": "aHNuFI_tOeak",
        "colab_type": "code",
        "colab": {}
      },
      "source": [
        "#한국의 응답\n",
        "plt.title(\"Best Places to look for a Data Science Job\")\n",
        "sns.countplot(y='JobSearchResource', data=korea)"
      ],
      "execution_count": null,
      "outputs": []
    },
    {
      "cell_type": "code",
      "metadata": {
        "id": "ndloRemVOgiM",
        "colab_type": "code",
        "colab": {}
      },
      "source": [
        "plt.title(\"Top Places to get Data Science Jobs\")\n",
        "sns.countplot(y='EmployerSearchMethod', data=korea)"
      ],
      "execution_count": null,
      "outputs": []
    }
  ]
}