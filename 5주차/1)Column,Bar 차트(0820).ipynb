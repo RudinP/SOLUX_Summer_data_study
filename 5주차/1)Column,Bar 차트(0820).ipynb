{
 "cells": [
  {
   "cell_type": "code",
   "execution_count": null,
   "metadata": {},
   "outputs": [],
   "source": [
    "#column chart=수직\n",
    "#수평으로 나타낸 column chart==barchart\n",
    "#비교를 나타낼 때 사용(ex:시간대비)\n",
    "#ex)구글차트\n",
    "#barchart는 서로 다른 아이템 비교, 시간별로 변경되는 같은 아이템 비교에 보통 사용\n",
    "#column는 순위를 매길 때 주로 사용"
   ]
  }
 ],
 "metadata": {
  "kernelspec": {
   "display_name": "Python 3",
   "language": "python",
   "name": "python3"
  },
  "language_info": {
   "codemirror_mode": {
    "name": "ipython",
    "version": 3
   },
   "file_extension": ".py",
   "mimetype": "text/x-python",
   "name": "python",
   "nbconvert_exporter": "python",
   "pygments_lexer": "ipython3",
   "version": "3.8.5"
  }
 },
 "nbformat": 4,
 "nbformat_minor": 4
}
