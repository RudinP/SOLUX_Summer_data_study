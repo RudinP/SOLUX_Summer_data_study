{
  "nbformat": 4,
  "nbformat_minor": 0,
  "metadata": {
    "colab": {
      "name": "1)데이터 시각화(Data visualization)는 무엇인가(0819).ipynb",
      "provenance": [],
      "collapsed_sections": [],
      "authorship_tag": "ABX9TyOqZaVrgygAvTpON4vAWOEg",
      "include_colab_link": true
    },
    "kernelspec": {
      "name": "python3",
      "display_name": "Python 3"
    }
  },
  "cells": [
    {
      "cell_type": "markdown",
      "metadata": {
        "id": "view-in-github",
        "colab_type": "text"
      },
      "source": [
        "<a href=\"https://colab.research.google.com/github/RudinP/SOLUX_Summer_data_study/blob/master/5%EC%A3%BC%EC%B0%A8/1)%EB%8D%B0%EC%9D%B4%ED%84%B0_%EC%8B%9C%EA%B0%81%ED%99%94(Data_visualization)%EB%8A%94_%EB%AC%B4%EC%97%87%EC%9D%B8%EA%B0%80(0819).ipynb\" target=\"_parent\"><img src=\"https://colab.research.google.com/assets/colab-badge.svg\" alt=\"Open In Colab\"/></a>"
      ]
    },
    {
      "cell_type": "code",
      "metadata": {
        "id": "0UMl0P1PlJVj",
        "colab_type": "code",
        "colab": {}
      },
      "source": [
        "#데이터 시각화의 대표적 예-차트\n",
        "#대표적인 차트의 분류를 10개로 하겠음\n",
        "#French invasion of Russia때부터 차트는 오랫동안 사용됨\n",
        "#Infographic\n",
        "'''-차트를 사용하는 이유\n",
        "1)comparison and ranking\n",
        "2)part to whole\n",
        "3)trend\n",
        "4)correlation\n",
        "5)distribution'''"
      ],
      "execution_count": null,
      "outputs": []
    }
  ]
}