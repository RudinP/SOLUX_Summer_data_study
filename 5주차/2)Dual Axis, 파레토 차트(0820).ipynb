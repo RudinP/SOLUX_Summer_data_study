{
 "cells": [
  {
   "cell_type": "code",
   "execution_count": null,
   "metadata": {},
   "outputs": [],
   "source": [
    "#Dual axis chart 는 두 개의 차트를 하나로 뭉쳐둔 것. x축을 공유, y축은 별개\n",
    "#말하자면 두 개의 축을 가지고 있다는 차트임\n",
    "#Pareto 차트는 하이라이트 용으로 사용. 경제적 부의 불균형을 나타내기 위해 경제학자 파레토가 만들면서 기원\n",
    "#Pareto 차트는 선택과 집중을 할 때 많이 쓰임.+가장 큰 원인을 찾을 때 (ex:자원개발)"
   ]
  }
 ],
 "metadata": {
  "kernelspec": {
   "display_name": "Python 3",
   "language": "python",
   "name": "python3"
  },
  "language_info": {
   "codemirror_mode": {
    "name": "ipython",
    "version": 3
   },
   "file_extension": ".py",
   "mimetype": "text/x-python",
   "name": "python",
   "nbconvert_exporter": "python",
   "pygments_lexer": "ipython3",
   "version": "3.8.5"
  }
 },
 "nbformat": 4,
 "nbformat_minor": 4
}
