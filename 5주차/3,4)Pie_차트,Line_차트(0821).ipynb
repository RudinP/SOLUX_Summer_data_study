{
  "nbformat": 4,
  "nbformat_minor": 0,
  "metadata": {
    "colab": {
      "name": "3,4)Pie 차트,Line 차트(0821).ipynb",
      "provenance": [],
      "authorship_tag": "ABX9TyMeL+wh8TJvp14S1swykuiT",
      "include_colab_link": true
    },
    "kernelspec": {
      "name": "python3",
      "display_name": "Python 3"
    }
  },
  "cells": [
    {
      "cell_type": "markdown",
      "metadata": {
        "id": "view-in-github",
        "colab_type": "text"
      },
      "source": [
        "<a href=\"https://colab.research.google.com/github/RudinP/SOLUX_Summer_data_study/blob/master/5%EC%A3%BC%EC%B0%A8/3%2C4)Pie_%EC%B0%A8%ED%8A%B8%2CLine_%EC%B0%A8%ED%8A%B8(0821).ipynb\" target=\"_parent\"><img src=\"https://colab.research.google.com/assets/colab-badge.svg\" alt=\"Open In Colab\"/></a>"
      ]
    },
    {
      "cell_type": "code",
      "metadata": {
        "id": "25pCsyL5-5S4",
        "colab_type": "code",
        "colab": {}
      },
      "source": [
        "#파이 차트를 쓰는 이유: 전체에서 할당되는 분량을 알기 위해서(Part to whole)\n",
        "#파이차트를 바 차트로 보여줄 수 있으나, 파이차트로 보여주며 특정 아이템 포지션을 정확하게 볼 수 있음\n",
        "#전체 segment의 합은 100%\n",
        "#ex) 오늘 하루 한 일(시간적 할당)"
      ],
      "execution_count": null,
      "outputs": []
    },
    {
      "cell_type": "code",
      "metadata": {
        "id": "HT87IMSW_euy",
        "colab_type": "code",
        "colab": {}
      },
      "source": [
        "#라인 차트는 트렌드, 추세를 나타나는데 사용함.\n",
        "#왜 라인차트를 사용하는가?:시간에 흐름에 따른 분석이 대표적. 다른 카테고리도 가능.\n",
        "#ex)Company performance: 시간의 추이에 따른 Sales와 Expenses의 변화\n",
        "#자세한 데이터를 보려면 다른 차트를 이용. 전체적인 추세를 위한거지, 자세한 데이터를 읽기는 어려움.\n",
        "#ex)환율의 추이"
      ],
      "execution_count": null,
      "outputs": []
    }
  ]
}