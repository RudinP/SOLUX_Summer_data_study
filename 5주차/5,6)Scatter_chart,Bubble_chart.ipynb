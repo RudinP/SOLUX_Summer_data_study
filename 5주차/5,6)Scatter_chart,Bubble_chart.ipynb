{
  "nbformat": 4,
  "nbformat_minor": 0,
  "metadata": {
    "colab": {
      "name": "5,6)Scatter chart,Bubble chart.ipynb",
      "provenance": [],
      "authorship_tag": "ABX9TyN+RB9DdG22dJxvY3U/Tinf",
      "include_colab_link": true
    },
    "kernelspec": {
      "name": "python3",
      "display_name": "Python 3"
    }
  },
  "cells": [
    {
      "cell_type": "markdown",
      "metadata": {
        "id": "view-in-github",
        "colab_type": "text"
      },
      "source": [
        "<a href=\"https://colab.research.google.com/github/RudinP/SOLUX_Summer_data_study/blob/master/5%EC%A3%BC%EC%B0%A8/5%2C6)Scatter_chart%2CBubble_chart.ipynb\" target=\"_parent\"><img src=\"https://colab.research.google.com/assets/colab-badge.svg\" alt=\"Open In Colab\"/></a>"
      ]
    },
    {
      "cell_type": "code",
      "metadata": {
        "id": "LjyIEURWVeUk",
        "colab_type": "code",
        "colab": {}
      },
      "source": [
        "'''Scatter chart'''\n",
        "#상관관계(correlation)의 대표적 차트\n",
        "#산포도와도 관련\n",
        "#머신러닝과 관련, 인공지능 트레이닝에서 연관성을 찾아내는데 쓰임\n",
        "#ㄴ선형회귀라는 방법을 씀\n",
        "#얼마나 분포되어 있냐가 중요\n",
        "#ex) x축이 나이 y축이 시간으로 사람들이 마라톤에서 어떻게 뛰었는가\n",
        "#변수간의 관계를 나타낼 때 현상들의 분포를 표시\n",
        "#ex)어디에서 어느역까지 얼마나 이동하느냐\n",
        "#scatter plot, scatter gram으로도 부름.\n",
        "#Age와 Weightdml comparison이 대표적 예(이미 알고있는 것: 해당 예시는 연관성이 0.9정도, 거의 1에 가까운 대표적 예임.)"
      ],
      "execution_count": null,
      "outputs": []
    },
    {
      "cell_type": "code",
      "metadata": {
        "id": "S_PfXqDGWgVL",
        "colab_type": "code",
        "colab": {}
      },
      "source": [
        "'''Bubble chart'''\n",
        "#산포도의 하나의 변형된 variation.\n",
        "#어떤 특정한 카테고리, 지점에 얼마나 많은 사람들이 있는지와 같은 다른 데이터를 나타내기 위해 사용\n",
        "#BCG Matrix-컨설팅에서 사용함. 지금도 마케팅에서 많이 사용함.\n",
        "#상품들 중에 어느 부분에 집중하는게 맞냐 같은 것을 도출해내는데 유용함."
      ],
      "execution_count": null,
      "outputs": []
    }
  ]
}