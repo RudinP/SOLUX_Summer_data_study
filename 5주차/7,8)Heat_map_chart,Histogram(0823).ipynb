{
  "nbformat": 4,
  "nbformat_minor": 0,
  "metadata": {
    "colab": {
      "name": "7,8)Heat map chart,Histogram(0823).ipynb",
      "provenance": [],
      "authorship_tag": "ABX9TyOQ4W+fPhBmX1W7I40dmPRJ",
      "include_colab_link": true
    },
    "kernelspec": {
      "name": "python3",
      "display_name": "Python 3"
    }
  },
  "cells": [
    {
      "cell_type": "markdown",
      "metadata": {
        "id": "view-in-github",
        "colab_type": "text"
      },
      "source": [
        "<a href=\"https://colab.research.google.com/github/RudinP/SOLUX_Summer_data_study/blob/master/5%EC%A3%BC%EC%B0%A8/7%2C8)Heat_map_chart%2CHistogram(0823).ipynb\" target=\"_parent\"><img src=\"https://colab.research.google.com/assets/colab-badge.svg\" alt=\"Open In Colab\"/></a>"
      ]
    },
    {
      "cell_type": "code",
      "metadata": {
        "id": "CEVsNbWGxvv_",
        "colab_type": "code",
        "colab": {}
      },
      "source": [
        "'''Heat map chart'''\n",
        "#Correlation 관련\n",
        "#Excel에서 쉽게 표현 가능\n",
        "#다양한 데이터를 직관적으로 파악하기에 적합\n",
        "#2개의 아이템간의 relationship 을 알려줌\n",
        "#high to low 를 색깔에 차이를 두어 나타냄\n",
        "#ex)년도에서 월별에서의 매출액\n",
        "#보통은 옆에 색을 어떻게 표현하는지 나타냄\n",
        "#seaborn을 이용하면 쉽게 heat map 구현 가능\n",
        "#많은 데이터를 나타낼 때 적합.->그러므로 직관적이어야함\n",
        "#보통은 한가지의 색만 (같은채도)를 이용하는 것을 추천"
      ],
      "execution_count": null,
      "outputs": []
    },
    {
      "cell_type": "code",
      "metadata": {
        "id": "DvI4RILtyaHY",
        "colab_type": "code",
        "colab": {}
      },
      "source": [
        "'''Histogram chart'''\n",
        "#Distribution(분포)\n",
        "#파레토 차트도 일종의 히스토그램.\n",
        "#어디에 가장 많이 분포되어있는가?\n",
        "#통계를 하며 굉장히 많이 쓰임\n",
        "#bin이라는 단계로 나눔.(바의 단위를 의미)\n",
        "#ex)Lengths of dinosaurs, in meters ->bin은 10m\n",
        "#segment를 나눈다(bin으로)\n",
        "#bin을 적당히 설정해야지만 분포를 알기 쉽다."
      ],
      "execution_count": null,
      "outputs": []
    }
  ]
}