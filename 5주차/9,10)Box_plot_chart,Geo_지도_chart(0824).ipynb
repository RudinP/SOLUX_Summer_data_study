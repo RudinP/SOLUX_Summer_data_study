{
  "nbformat": 4,
  "nbformat_minor": 0,
  "metadata": {
    "colab": {
      "name": "9,10)Box plot chart,Geo 지도 chart(0824).ipynb",
      "provenance": [],
      "authorship_tag": "ABX9TyNBZJfStlu3xXCW9ctBs8tp",
      "include_colab_link": true
    },
    "kernelspec": {
      "name": "python3",
      "display_name": "Python 3"
    }
  },
  "cells": [
    {
      "cell_type": "markdown",
      "metadata": {
        "id": "view-in-github",
        "colab_type": "text"
      },
      "source": [
        "<a href=\"https://colab.research.google.com/github/RudinP/SOLUX_Summer_data_study/blob/master/5%EC%A3%BC%EC%B0%A8/9%2C10)Box_plot_chart%2CGeo_%EC%A7%80%EB%8F%84_chart(0824).ipynb\" target=\"_parent\"><img src=\"https://colab.research.google.com/assets/colab-badge.svg\" alt=\"Open In Colab\"/></a>"
      ]
    },
    {
      "cell_type": "code",
      "metadata": {
        "id": "MLABc_Irkt-0",
        "colab_type": "code",
        "colab": {}
      },
      "source": [
        "'''Box plot chart'''\n",
        "#Distribution에 속함\n",
        "#여러가지 segment의 분포를 이용\n",
        "#다섯가지의 요약된 데이터셋을 나타냄\n",
        "#ㄴminimum/firstquartile(상위25%)/median/third quartile(상위75%)/maximum\n",
        "#분포를 세분화하여 알 수 있다.\n",
        "#medain값만을 기준으로 하지 않을 수 있다.\n",
        "#first quartile~third quartile: IQR"
      ],
      "execution_count": null,
      "outputs": []
    },
    {
      "cell_type": "code",
      "metadata": {
        "id": "ij2HdhUvllA6",
        "colab_type": "code",
        "colab": {}
      },
      "source": [
        "'''Geo 지도 chart'''\n",
        "#지역에 의거한 분포도에 관한 데이터\n",
        "#어느 지역, 지점에 무엇이 가장 많은가를 알 수 있다.\n",
        "#ex)지역별 유동인구, 매출액 등등\n",
        "#위치정보를 쉽게 확보할 수 있음\n",
        "#분포 구별은 색으로"
      ],
      "execution_count": null,
      "outputs": []
    },
    {
      "cell_type": "code",
      "metadata": {
        "id": "4dXCcanEmCRE",
        "colab_type": "code",
        "colab": {}
      },
      "source": [
        "'''정리'''\n",
        "'''Comparison and Ranking'''\n",
        "#Column chart\n",
        "#Bar chart\n",
        "#Dual axis chart\n",
        "#Pareto chart\n",
        "'''Part to whole'''\n",
        "#Pie chart\n",
        "'''Trend'''\n",
        "#Line graph\n",
        "'''Correlation'''\n",
        "#Scatter plot chart\n",
        "#Bubble chart\n",
        "#Heat map\n",
        "'''Distribution'''\n",
        "#Histogram\n",
        "#Box plot chart\n",
        "#Geo chart"
      ],
      "execution_count": null,
      "outputs": []
    }
  ]
}