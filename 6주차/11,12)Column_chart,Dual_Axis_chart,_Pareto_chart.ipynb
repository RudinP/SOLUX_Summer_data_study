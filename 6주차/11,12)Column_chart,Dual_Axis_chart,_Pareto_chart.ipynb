{
  "nbformat": 4,
  "nbformat_minor": 0,
  "metadata": {
    "colab": {
      "name": "11,12)Column chart,Dual Axis chart, Pareto chart.ipynb",
      "provenance": [],
      "authorship_tag": "ABX9TyPiXoc7N2G00elgn+FgGFHg",
      "include_colab_link": true
    },
    "kernelspec": {
      "name": "python3",
      "display_name": "Python 3"
    }
  },
  "cells": [
    {
      "cell_type": "markdown",
      "metadata": {
        "id": "view-in-github",
        "colab_type": "text"
      },
      "source": [
        "<a href=\"https://colab.research.google.com/github/RudinP/SOLUX_Summer_data_study/blob/master/6%EC%A3%BC%EC%B0%A8/11%2C12)Column_chart%2CDual_Axis_chart%2C_Pareto_chart.ipynb\" target=\"_parent\"><img src=\"https://colab.research.google.com/assets/colab-badge.svg\" alt=\"Open In Colab\"/></a>"
      ]
    },
    {
      "cell_type": "code",
      "metadata": {
        "id": "oFrksm5gQAq1",
        "colab_type": "code",
        "colab": {}
      },
      "source": [
        "'''Column chart'''\n",
        "#보스턴 마라톤 데이터셋을 이용\n",
        "#어디서 보스턴 마라톤 대회를 많이 참전하느냐\n",
        "#남자와 여자 중 어느 부분이 많이 참가하느냐\n",
        "#주 별 트렌드 변화\n",
        "\n",
        "#각 주의 참가자 수를 데이터로 나타낸 Column chart\n",
        "#성별로 얼마나 많은 사람들이 참가하는가를 데이터로 나타냄.(주 별로)\n",
        "#남녀별로 모델을 달리한다던지, 지점별로 다르게 한다던지 마케팅을 달리 할 수 있음\n",
        "#마케팅이 어느 지역에서 잘 되고 있는지. 추세(년도별)"
      ],
      "execution_count": null,
      "outputs": []
    },
    {
      "cell_type": "code",
      "metadata": {
        "id": "gGU71iLaRM9g",
        "colab_type": "code",
        "colab": {}
      },
      "source": [
        "'''Dual Axis chart, Pareto chart'''\n",
        "#마라톤 대회-나이별로\n",
        "#상위 40퍼센트 연령을 주 타겟으로 해야함을 알 수 있음.(파레토 차트)"
      ],
      "execution_count": null,
      "outputs": []
    }
  ]
}